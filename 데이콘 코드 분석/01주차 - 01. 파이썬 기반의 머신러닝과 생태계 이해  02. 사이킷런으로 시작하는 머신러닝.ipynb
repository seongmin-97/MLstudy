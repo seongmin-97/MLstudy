{
 "cells": [
  {
   "cell_type": "markdown",
   "metadata": {},
   "source": [
    "## Chapter 1 파이선 기반의 머신러닝과 생태계 이해\n",
    "\n",
    "### 01. 머신러닝 개념\n",
    "\n",
    "<br/>\n",
    "머신러닝 : 어플리케이션을 수정하지 않고도 데이터를 기반으로 패턴을 학습하고 결과를 예측하는 알고리즘 기법\n",
    "\n",
    "> 데이터 분석 영역은 재빠르게 머신러닝 기반의 예측 분석으로 재편되고 있다.\n",
    "\n",
    "- 머신러닝의 분류\n",
    "    - 지도학습 : 분류, 회귀, 추천 시스템, 시각/음성 갑지/인지, 텍스트 분석, NLP 등\n",
    "    - 비지도학습 : 클러스터링, 차원 축소\n",
    "    - 강화학습\n",
    "    \n",
    "- 머신러닝의 가장 큰 단점 <br/>\n",
    "    - 데이터의 매우 의존적이다. => 좋은 품질의 데이터가 없다면 머신러닝 수행 결과도 좋지 못하다."
   ]
  },
  {
   "cell_type": "markdown",
   "metadata": {},
   "source": [
    "### 02. 파이썬 머신러닝 생태계를 구성하는 주요 패키지\n",
    "\n",
    "- 머신러닝 : scikit-learn\n",
    "- 행렬/선형대수/통계 : Numpy, SciPy\n",
    "- 데이터 핸들링 : Pandas\n",
    "- 시각화 : Matplotlib (너무 세분화, 디자인 투박, 효율성 떨어짐 => 보완 : seaborn) <br/>\n",
    "    하지만 seaborn을 배우려면 Matplotlib 역시 어느정도 알아야 한다."
   ]
  },
  {
   "cell_type": "markdown",
   "metadata": {},
   "source": [
    "### 03. 넘파이(Numpy)\n",
    "배열 기반의 연산과 다양한 데이터 핸들링 기능을 제공한다.\n",
    "<br/>\n",
    "일반적으로 아래와 같이 모듈을 불러온다."
   ]
  },
  {
   "cell_type": "code",
   "execution_count": 1,
   "metadata": {},
   "outputs": [],
   "source": [
    "import numpy as np"
   ]
  },
  {
   "cell_type": "markdown",
   "metadata": {},
   "source": [
    "#### ndarray\n",
    "\n",
    "- 넘파이의 기반 데이터 타입이며 이를 이용해 다양한 계산을 수행할 수 있다.\n",
    "- 넘파이의 **array()**는 리스트 같은 다양한 인자를 받아 ndarray로 변환한다.\n",
    "- 생성된 **ndarray의 shape 변수**는 ndarray의 행과 열의 수를 튜플로 반환한다."
   ]
  },
  {
   "cell_type": "code",
   "execution_count": 8,
   "metadata": {},
   "outputs": [
    {
     "name": "stdout",
     "output_type": "stream",
     "text": [
      "<class 'numpy.ndarray'> (3,)\n",
      "<class 'numpy.ndarray'> (2, 3)\n"
     ]
    }
   ],
   "source": [
    "array1 = np.array([1, 2, 3])\n",
    "print(type(array1), array1.shape)\n",
    "array2 = np.array([[1, 2, 3],\n",
    "                   [4, 5, 6]])\n",
    "print(type(array2), array2.shape)"
   ]
  },
  {
   "cell_type": "markdown",
   "metadata": {},
   "source": [
    "#### ndarray의 데이터 타입\n",
    "\n",
    "- ndarray의 데이터 값은 숫자, 문자열, boolean 모두 가능하지만 하나의 ndarray에 다른 데이터 타입은 공존할 수 없다.\n",
    "- ndarray의 dtype 속성으로 데이터 타입 확인이 가능하다. 만약, 다른 데이터 유형이 섞인 리스트를 ndarray로 변경하면 데이터 크기가 더 큰 타입으로 형변환을 일괄 적용한다. <br/>\n",
    "- ndarray의 astype()으로 ndarray 내 데이터 값의 타입 변경도 가능하다."
   ]
  },
  {
   "cell_type": "code",
   "execution_count": 3,
   "metadata": {},
   "outputs": [
    {
     "name": "stdout",
     "output_type": "stream",
     "text": [
      "<class 'list'>\n",
      "<class 'numpy.ndarray'> int32\n",
      "[1. 2. 3.] float64\n"
     ]
    }
   ],
   "source": [
    "list1 = [1, 2, 3]\n",
    "print(type(list1))\n",
    "array1 = np.array(list1)\n",
    "print(type(array1), array1.dtype)\n",
    "\n",
    "array_int = np.array([1, 2, 3])\n",
    "array_float = array_int.astype('float64')\n",
    "print(array_float, array_float.dtype)"
   ]
  },
  {
   "cell_type": "markdown",
   "metadata": {},
   "source": [
    "#### ndarray를 편리하게 생성하기\n",
    "\n",
    "- 특정 크기와 차원을 가진 ndarray를 연속값 혹은 0 혹은 1로 초기화해 쉽게 만들고자 할 때 <br/>\n",
    "arange(), zeros(), ones()를 사용한다. <br/>\n",
    "- 주로 테스트용 데이터나 대규모 데이터를 일괄적으로 초기화 할 때 사용한다. <br/>\n",
    "- arange()는 0 ~ 입력값 -1 까지 순차적으로 ndarray의 데이터를 채워준다. range()처럼 시작값 부여도 가능하다.\n",
    "- zeros()와 ones()는 입력값으로 튜플 형태의 shape를 입력하면 해당 크기만큼 0 혹은 1로 채워서 반환된다. <br/>\n",
    "- 기본 데이터 타입은 float64이다."
   ]
  },
  {
   "cell_type": "code",
   "execution_count": 7,
   "metadata": {},
   "outputs": [
    {
     "name": "stdout",
     "output_type": "stream",
     "text": [
      "arange(10)으로 생성한 ndarray \n",
      "\n",
      "[0 1 2 3 4 5 6 7 8 9] int32 (10,)\n",
      "\n",
      "\n",
      "zero(3, 2)로 생성한 ndarray\n",
      "\n",
      "[[0 0]\n",
      " [0 0]\n",
      " [0 0]] int32 (3, 2)\n",
      "\n",
      "\n",
      "ones(3, 2)로 생성한 ndarray\n",
      "\n",
      "[[1. 1.]\n",
      " [1. 1.]\n",
      " [1. 1.]] float64 (3, 2)\n"
     ]
    }
   ],
   "source": [
    "# arange() 사용\n",
    "sequence_array = np.arange(10)\n",
    "print(\"arange(10)으로 생성한 ndarray \\n\")\n",
    "print(sequence_array, sequence_array.dtype, sequence_array.shape)\n",
    "print(\"\\n\")\n",
    "# zeros() 사용\n",
    "zero_array = np.zeros((3, 2), dtype='int32')\n",
    "print(\"zero(3, 2)로 생성한 ndarray\\n\")\n",
    "print(zero_array, zero_array.dtype, zero_array.shape)\n",
    "print(\"\\n\")\n",
    "# ones() 사용\n",
    "ones_array = np.ones((3, 2))\n",
    "print(\"ones(3, 2)로 생성한 ndarray\\n\")\n",
    "print(ones_array, ones_array.dtype, ones_array.shape)"
   ]
  },
  {
   "cell_type": "markdown",
   "metadata": {},
   "source": [
    "#### ndarray의 차원과 크기를 변경하는 reshape()\n",
    "\n",
    "- reshape()는 ndarray를 특정 차원 및 크기로 변환한다. 변환을 원하는 크기를 함수 인자로 부여하면 된다. <br/>\n",
    "지정된 사이즈로 변경이 불가능하면 오류가 발생된다.\n",
    "- reshape()의 효율적으로 사용하는 경우는 -1을 적용하는 경우이다. -1을 사용하면 원래 ndarray와 호환되는 새로운 shape를 반환한다.\n"
   ]
  },
  {
   "cell_type": "code",
   "execution_count": 11,
   "metadata": {},
   "outputs": [
    {
     "name": "stdout",
     "output_type": "stream",
     "text": [
      "array1: \n",
      " [0 1 2 3 4 5 6 7 8 9]\n",
      "array2: \n",
      " [[0 1 2 3 4]\n",
      " [5 6 7 8 9]]\n",
      "array3: \n",
      " [[0 1]\n",
      " [2 3]\n",
      " [4 5]\n",
      " [6 7]\n",
      " [8 9]]\n",
      "\n",
      "reshape 효율적인 사용\n",
      "\n",
      "array1: \n",
      " [0 1 2 3 4 5 6 7 8 9]\n",
      "array2: \n",
      " [[0 1 2 3 4]\n",
      " [5 6 7 8 9]]\n",
      "array3: \n",
      " [[0 1]\n",
      " [2 3]\n",
      " [4 5]\n",
      " [6 7]\n",
      " [8 9]]\n"
     ]
    }
   ],
   "source": [
    "# reshape 기본적인 사용\n",
    "array1 = np.arange(10)\n",
    "print('array1: \\n', array1)\n",
    "array2 = array1.reshape((2, 5))\n",
    "print('array2: \\n', array2)\n",
    "array3 = array1.reshape((5, 2))\n",
    "print('array3: \\n', array3)\n",
    "\n",
    "\n",
    "print(\"\\nreshape 효율적인 사용\\n\")\n",
    "\n",
    "# reshape 효율적인 사용\n",
    "array1 = np.arange(10)\n",
    "print('array1: \\n', array1)\n",
    "array2 = array1.reshape((-1, 5))\n",
    "print('array2: \\n', array2)\n",
    "array3 = array1.reshape((5, -1))\n",
    "print('array3: \\n', array3)"
   ]
  },
  {
   "cell_type": "markdown",
   "metadata": {},
   "source": [
    "#### ndarray의 인덱싱\n",
    "\n",
    "- 단일값 추출<br/>\n",
    "    원하는 위치의 인덱스 값을 []에 입력하면 된다. 2차원의 경우 [row, col] 순서이다. 또한 해당 인덱스를 사용해 바로 데이터 수정도 가능하다."
   ]
  },
  {
   "cell_type": "code",
   "execution_count": 15,
   "metadata": {},
   "outputs": [
    {
     "name": "stdout",
     "output_type": "stream",
     "text": [
      "array1:  [1 2 3 4 5 6 7 8 9]\n",
      "value:  3\n",
      "\n",
      "\n",
      "array1:  [9 2 3 4 5 6 7 8 0]\n",
      "\n",
      "\n",
      "[[1 2 3]\n",
      " [4 5 6]\n",
      " [7 8 9]]\n",
      "(row=0, col=0) index 가리키는 값 :  1\n",
      "(row=0, col=1) index 가리키는 값 :  2\n",
      "(row=1, col=0) index 가리키는 값 :  4\n",
      "(row=1, col=1) index 가리키는 값 :  5\n"
     ]
    }
   ],
   "source": [
    "array1 = np.arange(start=1, stop=10)\n",
    "print('array1: ', array1)\n",
    "\n",
    "value = array1[2]\n",
    "print('value: ', value)\n",
    "print('\\n')\n",
    "\n",
    "#데이터 수정\n",
    "array1[0] = 9\n",
    "array1[8] = 0\n",
    "print('array1: ', array1)\n",
    "print('\\n')\n",
    "\n",
    "# 2차원에서의 단일값 추출\n",
    "array1d = np.arange(start=1, stop=10)\n",
    "array2d = array1d.reshape(3, 3)\n",
    "print(array2d)\n",
    "\n",
    "print('(row=0, col=0) index 가리키는 값 : ', array2d[0, 0])\n",
    "print('(row=0, col=1) index 가리키는 값 : ', array2d[0, 1])\n",
    "print('(row=1, col=0) index 가리키는 값 : ', array2d[1, 0])\n",
    "print('(row=1, col=1) index 가리키는 값 : ', array2d[1, 1])"
   ]
  },
  {
   "cell_type": "markdown",
   "metadata": {},
   "source": [
    "- 슬라이싱<br/>\n",
    "    : 기호로 연속한 데이터를 추출할 수 있다.<br/>\n",
    "    [시작 인덱스 : 종료 인덱스]로 추출하면 시작 인덱스 ~ 종료 인덱스 -1까지  추출된다.<br/>\n",
    "    시작 인덱스나 종료 인덱스를 생략하면 각각 처음, 마지막 인덱스로 설정된다.<br/>\n",
    "    다차원 인덱스는 단일 추출과 마찬가지로 [row, col]으로 추출한다."
   ]
  },
  {
   "cell_type": "code",
   "execution_count": 16,
   "metadata": {},
   "outputs": [
    {
     "name": "stdout",
     "output_type": "stream",
     "text": [
      "[1 2 3] <class 'numpy.ndarray'>\n"
     ]
    }
   ],
   "source": [
    "array1 = np.arange(start=1, stop=10)\n",
    "array3 = array1[0:3]\n",
    "print(array3, type(array3))"
   ]
  },
  {
   "cell_type": "markdown",
   "metadata": {},
   "source": [
    "- 팬시 인덱싱<br/>\n",
    "    리스트나 ndarray로 인덱스 집합을 지정하면 해당 위치의 인덱스에 해당하는 ndarray를 반환한다."
   ]
  },
  {
   "cell_type": "code",
   "execution_count": 19,
   "metadata": {},
   "outputs": [
    {
     "name": "stdout",
     "output_type": "stream",
     "text": [
      "[[1 2 3]\n",
      " [4 5 6]\n",
      " [7 8 9]]\n",
      "\n",
      "\n",
      "array2d[[0, 1], 2] => [3, 6]\n",
      "array2d[[0, 1], 0:2] =>  [[1, 2], [4, 5]]\n",
      "array2d[[0, 1]] =>  [[1, 2, 3], [4, 5, 6]]\n"
     ]
    }
   ],
   "source": [
    "array1d = np.arange(start=1, stop=10)\n",
    "array2d = array1d.reshape(3, 3)\n",
    "print(array2d)\n",
    "print('\\n')\n",
    "\n",
    "array3 = array2d[[0, 1], 2]\n",
    "print('array2d[[0, 1], 2] =>', array3.tolist())\n",
    "\n",
    "array4 = array2d[[0, 1], 0:2]\n",
    "print('array2d[[0, 1], 0:2] => ', array4.tolist())\n",
    "\n",
    "array5 = array2d[[0, 1]]\n",
    "print('array2d[[0, 1]] => ', array5.tolist())"
   ]
  },
  {
   "cell_type": "markdown",
   "metadata": {},
   "source": [
    "- Boolean 인덱싱<br/>\n",
    "    조건 필터링 + 검색을 동시에 하기에 자주 사용된다.<br/>\n",
    "    [ ] 내에 조건문을 그대로 사용하기만 하면 된다."
   ]
  },
  {
   "cell_type": "code",
   "execution_count": 20,
   "metadata": {},
   "outputs": [
    {
     "name": "stdout",
     "output_type": "stream",
     "text": [
      "array1d > 5 Boolean 인덱싱 값 [6 7 8 9]\n"
     ]
    }
   ],
   "source": [
    "array1d = np.arange(start=1, stop=10)\n",
    "array3 = array1d[array1d > 5]\n",
    "print('array1d > 5 Boolean 인덱싱 값', array3)"
   ]
  },
  {
   "cell_type": "markdown",
   "metadata": {},
   "source": [
    "#### 행렬의 정렬\n",
    "\n",
    "np.sort()를  사용해 정렬하거나 ndarray의 ndarray.sort()를 사용해 정렬할 수 있다.<br/>\n",
    "차이점은 np.sort()는 원행렬 유지, 정렬값 반환이고, ndarray.sort()는 원행렬이 정렬되고 반환값은 None이다.<br/>\n",
    "기본적으로 오름차순이며 내림차순을 원할때는 np.sort(array)[::1]을 사용하면 된다.<br/>\n",
    "다차원 행렬의 경우 np.sort()에 axis 속성 적용이 가능하다."
   ]
  },
  {
   "cell_type": "code",
   "execution_count": 21,
   "metadata": {},
   "outputs": [
    {
     "name": "stdout",
     "output_type": "stream",
     "text": [
      "로우 방향으로 정렬: \n",
      " [[ 7  1]\n",
      " [ 8 12]]\n",
      "칼럼 방향으로 정렬: \n",
      " [[ 8 12]\n",
      " [ 1  7]]\n"
     ]
    }
   ],
   "source": [
    "array2d = np.array([[8, 12],\n",
    "                    [7, 1]])\n",
    "\n",
    "sort_array2d_axis0 = np.sort(array2d, axis=0)\n",
    "print('로우 방향으로 정렬: \\n', sort_array2d_axis0)\n",
    "\n",
    "sort_array2d_axis1 = np.sort(array2d, axis=1)\n",
    "print('칼럼 방향으로 정렬: \\n', sort_array2d_axis1)"
   ]
  },
  {
   "cell_type": "markdown",
   "metadata": {},
   "source": [
    "#### 정렬된 행렬의 인덱스를 반환하기\n",
    "\n",
    "원본 행렬이 정렬되었을 때 기존 원본 행렬의 원소에 대한 인덱스를 필요로 할 때 np.argsort()을 이용하면 된다."
   ]
  },
  {
   "cell_type": "code",
   "execution_count": 22,
   "metadata": {},
   "outputs": [
    {
     "name": "stdout",
     "output_type": "stream",
     "text": [
      "<class 'numpy.ndarray'>\n",
      "행렬 정렬 시 원본 행렬의 인덱스 :  [1 0 3 2]\n"
     ]
    }
   ],
   "source": [
    "org_array = np.array([3, 1, 9, 5])\n",
    "sort_indices = np.argsort(org_array)\n",
    "print(type(sort_indices))\n",
    "print('행렬 정렬 시 원본 행렬의 인덱스 : ', sort_indices)"
   ]
  },
  {
   "cell_type": "markdown",
   "metadata": {},
   "source": [
    "#### 행렬 내적과 전치 행렬\n",
    "\n",
    "행렬 내적은 np.dot()을, 전치 행렬은 np.transpose()를 사용한다."
   ]
  },
  {
   "cell_type": "code",
   "execution_count": 24,
   "metadata": {},
   "outputs": [
    {
     "name": "stdout",
     "output_type": "stream",
     "text": [
      "행렬 내적 결과 : \n",
      " [[ 58  64]\n",
      " [139 154]]\n",
      "A의 전치 행렬 : \n",
      " [[1 3]\n",
      " [2 4]]\n"
     ]
    }
   ],
   "source": [
    "#행렬 내적\n",
    "A = np.array([[1, 2, 3],\n",
    "              [4, 5, 6]])\n",
    "\n",
    "B = np.array([[7, 8],\n",
    "              [9, 10],\n",
    "              [11, 12]])\n",
    "dot_product = np.dot(A, B)\n",
    "print('행렬 내적 결과 : \\n', dot_product)\n",
    "\n",
    "#전치 행렬\n",
    "A = np.array([[1, 2],\n",
    "              [3, 4]])\n",
    "transpose_mat = np.transpose(A)\n",
    "print('A의 전치 행렬 : \\n', transpose_mat)"
   ]
  },
  {
   "cell_type": "code",
   "execution_count": null,
   "metadata": {},
   "outputs": [],
   "source": []
  }
 ],
 "metadata": {
  "kernelspec": {
   "display_name": "Python 3",
   "language": "python",
   "name": "python3"
  },
  "language_info": {
   "codemirror_mode": {
    "name": "ipython",
    "version": 3
   },
   "file_extension": ".py",
   "mimetype": "text/x-python",
   "name": "python",
   "nbconvert_exporter": "python",
   "pygments_lexer": "ipython3",
   "version": "3.7.7"
  }
 },
 "nbformat": 4,
 "nbformat_minor": 4
}

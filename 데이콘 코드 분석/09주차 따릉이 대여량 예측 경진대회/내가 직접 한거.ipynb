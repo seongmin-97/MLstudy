{
 "cells": [
  {
   "cell_type": "code",
   "execution_count": 1,
   "metadata": {},
   "outputs": [
    {
     "data": {
      "text/html": [
       "<div>\n",
       "<style scoped>\n",
       "    .dataframe tbody tr th:only-of-type {\n",
       "        vertical-align: middle;\n",
       "    }\n",
       "\n",
       "    .dataframe tbody tr th {\n",
       "        vertical-align: top;\n",
       "    }\n",
       "\n",
       "    .dataframe thead th {\n",
       "        text-align: right;\n",
       "    }\n",
       "</style>\n",
       "<table border=\"1\" class=\"dataframe\">\n",
       "  <thead>\n",
       "    <tr style=\"text-align: right;\">\n",
       "      <th></th>\n",
       "      <th>date_time</th>\n",
       "      <th>wind_direction</th>\n",
       "      <th>sky_condition</th>\n",
       "      <th>precipitation_form</th>\n",
       "      <th>wind_speed</th>\n",
       "      <th>humidity</th>\n",
       "      <th>low_temp</th>\n",
       "      <th>high_temp</th>\n",
       "      <th>Precipitation_Probability</th>\n",
       "      <th>number_of_rentals</th>\n",
       "    </tr>\n",
       "  </thead>\n",
       "  <tbody>\n",
       "    <tr>\n",
       "      <th>0</th>\n",
       "      <td>2018-04-01</td>\n",
       "      <td>207.500</td>\n",
       "      <td>4.000</td>\n",
       "      <td>0.000</td>\n",
       "      <td>3.050</td>\n",
       "      <td>75.000</td>\n",
       "      <td>12.600</td>\n",
       "      <td>21.000</td>\n",
       "      <td>30.000</td>\n",
       "      <td>22994</td>\n",
       "    </tr>\n",
       "    <tr>\n",
       "      <th>1</th>\n",
       "      <td>2018-04-02</td>\n",
       "      <td>208.317</td>\n",
       "      <td>2.950</td>\n",
       "      <td>0.000</td>\n",
       "      <td>3.278</td>\n",
       "      <td>69.833</td>\n",
       "      <td>12.812</td>\n",
       "      <td>19.000</td>\n",
       "      <td>19.500</td>\n",
       "      <td>28139</td>\n",
       "    </tr>\n",
       "    <tr>\n",
       "      <th>2</th>\n",
       "      <td>2018-04-03</td>\n",
       "      <td>213.516</td>\n",
       "      <td>2.911</td>\n",
       "      <td>0.000</td>\n",
       "      <td>2.690</td>\n",
       "      <td>74.879</td>\n",
       "      <td>10.312</td>\n",
       "      <td>15.316</td>\n",
       "      <td>19.113</td>\n",
       "      <td>26817</td>\n",
       "    </tr>\n",
       "    <tr>\n",
       "      <th>3</th>\n",
       "      <td>2018-04-04</td>\n",
       "      <td>143.836</td>\n",
       "      <td>3.692</td>\n",
       "      <td>0.425</td>\n",
       "      <td>3.138</td>\n",
       "      <td>71.849</td>\n",
       "      <td>8.312</td>\n",
       "      <td>12.368</td>\n",
       "      <td>43.493</td>\n",
       "      <td>26034</td>\n",
       "    </tr>\n",
       "    <tr>\n",
       "      <th>4</th>\n",
       "      <td>2018-04-05</td>\n",
       "      <td>95.905</td>\n",
       "      <td>4.000</td>\n",
       "      <td>0.723</td>\n",
       "      <td>3.186</td>\n",
       "      <td>73.784</td>\n",
       "      <td>5.875</td>\n",
       "      <td>10.421</td>\n",
       "      <td>63.378</td>\n",
       "      <td>2833</td>\n",
       "    </tr>\n",
       "  </tbody>\n",
       "</table>\n",
       "</div>"
      ],
      "text/plain": [
       "    date_time  wind_direction  sky_condition  precipitation_form  wind_speed  \\\n",
       "0  2018-04-01         207.500          4.000               0.000       3.050   \n",
       "1  2018-04-02         208.317          2.950               0.000       3.278   \n",
       "2  2018-04-03         213.516          2.911               0.000       2.690   \n",
       "3  2018-04-04         143.836          3.692               0.425       3.138   \n",
       "4  2018-04-05          95.905          4.000               0.723       3.186   \n",
       "\n",
       "   humidity  low_temp  high_temp  Precipitation_Probability  number_of_rentals  \n",
       "0    75.000    12.600     21.000                     30.000              22994  \n",
       "1    69.833    12.812     19.000                     19.500              28139  \n",
       "2    74.879    10.312     15.316                     19.113              26817  \n",
       "3    71.849     8.312     12.368                     43.493              26034  \n",
       "4    73.784     5.875     10.421                     63.378               2833  "
      ]
     },
     "execution_count": 1,
     "metadata": {},
     "output_type": "execute_result"
    }
   ],
   "source": [
    "import pandas as pd\n",
    "\n",
    "train = pd.read_csv(\"./data/train.csv\")\n",
    "test = pd.read_csv(\"./data/test.csv\")\n",
    "\n",
    "train.head()"
   ]
  },
  {
   "cell_type": "code",
   "execution_count": 2,
   "metadata": {},
   "outputs": [
    {
     "data": {
      "text/html": [
       "<div>\n",
       "<style scoped>\n",
       "    .dataframe tbody tr th:only-of-type {\n",
       "        vertical-align: middle;\n",
       "    }\n",
       "\n",
       "    .dataframe tbody tr th {\n",
       "        vertical-align: top;\n",
       "    }\n",
       "\n",
       "    .dataframe thead th {\n",
       "        text-align: right;\n",
       "    }\n",
       "</style>\n",
       "<table border=\"1\" class=\"dataframe\">\n",
       "  <thead>\n",
       "    <tr style=\"text-align: right;\">\n",
       "      <th></th>\n",
       "      <th>date_time</th>\n",
       "      <th>wind_direction</th>\n",
       "      <th>sky_condition</th>\n",
       "      <th>precipitation_form</th>\n",
       "      <th>wind_speed</th>\n",
       "      <th>humidity</th>\n",
       "      <th>low_temp</th>\n",
       "      <th>high_temp</th>\n",
       "      <th>Precipitation_Probability</th>\n",
       "    </tr>\n",
       "  </thead>\n",
       "  <tbody>\n",
       "    <tr>\n",
       "      <th>0</th>\n",
       "      <td>2021-04-01</td>\n",
       "      <td>108.833</td>\n",
       "      <td>3.000</td>\n",
       "      <td>0.000</td>\n",
       "      <td>2.900</td>\n",
       "      <td>28.333</td>\n",
       "      <td>11.800</td>\n",
       "      <td>20.667</td>\n",
       "      <td>18.333</td>\n",
       "    </tr>\n",
       "    <tr>\n",
       "      <th>1</th>\n",
       "      <td>2021-04-02</td>\n",
       "      <td>116.717</td>\n",
       "      <td>3.850</td>\n",
       "      <td>0.000</td>\n",
       "      <td>2.662</td>\n",
       "      <td>46.417</td>\n",
       "      <td>12.000</td>\n",
       "      <td>19.000</td>\n",
       "      <td>28.500</td>\n",
       "    </tr>\n",
       "    <tr>\n",
       "      <th>2</th>\n",
       "      <td>2021-04-03</td>\n",
       "      <td>82.669</td>\n",
       "      <td>4.000</td>\n",
       "      <td>0.565</td>\n",
       "      <td>2.165</td>\n",
       "      <td>77.258</td>\n",
       "      <td>8.875</td>\n",
       "      <td>16.368</td>\n",
       "      <td>52.847</td>\n",
       "    </tr>\n",
       "    <tr>\n",
       "      <th>3</th>\n",
       "      <td>2021-04-04</td>\n",
       "      <td>44.123</td>\n",
       "      <td>3.466</td>\n",
       "      <td>0.466</td>\n",
       "      <td>3.747</td>\n",
       "      <td>63.288</td>\n",
       "      <td>6.250</td>\n",
       "      <td>17.368</td>\n",
       "      <td>37.671</td>\n",
       "    </tr>\n",
       "    <tr>\n",
       "      <th>4</th>\n",
       "      <td>2021-04-05</td>\n",
       "      <td>147.791</td>\n",
       "      <td>1.500</td>\n",
       "      <td>0.000</td>\n",
       "      <td>1.560</td>\n",
       "      <td>48.176</td>\n",
       "      <td>7.188</td>\n",
       "      <td>18.684</td>\n",
       "      <td>4.459</td>\n",
       "    </tr>\n",
       "  </tbody>\n",
       "</table>\n",
       "</div>"
      ],
      "text/plain": [
       "    date_time  wind_direction  sky_condition  precipitation_form  wind_speed  \\\n",
       "0  2021-04-01         108.833          3.000               0.000       2.900   \n",
       "1  2021-04-02         116.717          3.850               0.000       2.662   \n",
       "2  2021-04-03          82.669          4.000               0.565       2.165   \n",
       "3  2021-04-04          44.123          3.466               0.466       3.747   \n",
       "4  2021-04-05         147.791          1.500               0.000       1.560   \n",
       "\n",
       "   humidity  low_temp  high_temp  Precipitation_Probability  \n",
       "0    28.333    11.800     20.667                     18.333  \n",
       "1    46.417    12.000     19.000                     28.500  \n",
       "2    77.258     8.875     16.368                     52.847  \n",
       "3    63.288     6.250     17.368                     37.671  \n",
       "4    48.176     7.188     18.684                      4.459  "
      ]
     },
     "execution_count": 2,
     "metadata": {},
     "output_type": "execute_result"
    }
   ],
   "source": [
    "test.head()"
   ]
  },
  {
   "cell_type": "markdown",
   "metadata": {},
   "source": [
    "\n",
    "date_time : 일별 날짜 <br>\n",
    "wind_direction: 풍향 (degree) <br>\n",
    "sky_condition : 하늘 상태 (하단 설명 참조) <br>\n",
    "precipitation_form : 강수 형태 (하단 설명 참조) <br>\n",
    "wind_speed : 풍속 (m/s) <br>\n",
    "humidity : 습도 (%) <br>\n",
    "low_temp : 최저 기온 ( C) <br>\n",
    "high_temp : 최고 기온 ( C) <br>\n",
    "Precipitation_Probability : 강수 확률 (%) <br>\n",
    "number_of_rentals : 따릉이 대여량 <br>\n",
    "\n",
    "\n",
    "기상 데이터는 하루에 총 8번 3시간 간격으로 발표되는 기상단기예보(SHRT) 데이터를 1일 평균으로 변환한 데이터입니다.<br>\n",
    "2019년 6월 4일 까지 sky_condition (하늘 상태) 코드  : 맑음(1), 구름조금(2), 구름많음(3), 흐림(4)<br>\n",
    "2020년  sky_condition (하늘 상태) 코드  : 맑음(1), 구름많음(3), 흐림(4)<br>\n",
    "precipitation_form (강수 형태) 코드 : 없음(0), 비(1), 진눈깨비(2), 눈(3), 소나기(4)<br>\n",
    "원본 데이터에는 없음(0), 비(1),소나기(4)가 포함되어있었으며 진눈깨비(2)와 눈(3) 성분은 존재하지 않습니다."
   ]
  },
  {
   "cell_type": "code",
   "execution_count": 3,
   "metadata": {},
   "outputs": [
    {
     "name": "stdout",
     "output_type": "stream",
     "text": [
      "<class 'pandas.core.frame.DataFrame'>\n",
      "RangeIndex: 273 entries, 0 to 272\n",
      "Data columns (total 10 columns):\n",
      " #   Column                     Non-Null Count  Dtype  \n",
      "---  ------                     --------------  -----  \n",
      " 0   date_time                  273 non-null    object \n",
      " 1   wind_direction             273 non-null    float64\n",
      " 2   sky_condition              273 non-null    float64\n",
      " 3   precipitation_form         273 non-null    float64\n",
      " 4   wind_speed                 273 non-null    float64\n",
      " 5   humidity                   273 non-null    float64\n",
      " 6   low_temp                   273 non-null    float64\n",
      " 7   high_temp                  273 non-null    float64\n",
      " 8   Precipitation_Probability  273 non-null    float64\n",
      " 9   number_of_rentals          273 non-null    int64  \n",
      "dtypes: float64(8), int64(1), object(1)\n",
      "memory usage: 21.5+ KB\n"
     ]
    }
   ],
   "source": [
    "train.info()\n",
    "# 날짜 값만 바꿔주면 될 것 같다."
   ]
  },
  {
   "cell_type": "code",
   "execution_count": 4,
   "metadata": {},
   "outputs": [
    {
     "name": "stdout",
     "output_type": "stream",
     "text": [
      "<class 'pandas.core.frame.DataFrame'>\n",
      "RangeIndex: 91 entries, 0 to 90\n",
      "Data columns (total 9 columns):\n",
      " #   Column                     Non-Null Count  Dtype  \n",
      "---  ------                     --------------  -----  \n",
      " 0   date_time                  91 non-null     object \n",
      " 1   wind_direction             91 non-null     float64\n",
      " 2   sky_condition              91 non-null     float64\n",
      " 3   precipitation_form         91 non-null     float64\n",
      " 4   wind_speed                 91 non-null     float64\n",
      " 5   humidity                   91 non-null     float64\n",
      " 6   low_temp                   91 non-null     float64\n",
      " 7   high_temp                  91 non-null     float64\n",
      " 8   Precipitation_Probability  91 non-null     float64\n",
      "dtypes: float64(8), object(1)\n",
      "memory usage: 6.5+ KB\n"
     ]
    }
   ],
   "source": [
    "test.info()\n",
    "# number_of_rentals가 레이블값인것 같다."
   ]
  },
  {
   "cell_type": "code",
   "execution_count": 5,
   "metadata": {},
   "outputs": [
    {
     "data": {
      "text/html": [
       "<div>\n",
       "<style scoped>\n",
       "    .dataframe tbody tr th:only-of-type {\n",
       "        vertical-align: middle;\n",
       "    }\n",
       "\n",
       "    .dataframe tbody tr th {\n",
       "        vertical-align: top;\n",
       "    }\n",
       "\n",
       "    .dataframe thead th {\n",
       "        text-align: right;\n",
       "    }\n",
       "</style>\n",
       "<table border=\"1\" class=\"dataframe\">\n",
       "  <thead>\n",
       "    <tr style=\"text-align: right;\">\n",
       "      <th></th>\n",
       "      <th>date_time</th>\n",
       "      <th>wind_direction</th>\n",
       "      <th>sky_condition</th>\n",
       "      <th>precipitation_form</th>\n",
       "      <th>wind_speed</th>\n",
       "      <th>humidity</th>\n",
       "      <th>low_temp</th>\n",
       "      <th>high_temp</th>\n",
       "      <th>Precipitation_Probability</th>\n",
       "      <th>number_of_rentals</th>\n",
       "    </tr>\n",
       "  </thead>\n",
       "  <tbody>\n",
       "    <tr>\n",
       "      <th>268</th>\n",
       "      <td>2020-06-26</td>\n",
       "      <td>228.662</td>\n",
       "      <td>3.980</td>\n",
       "      <td>0.223</td>\n",
       "      <td>2.271</td>\n",
       "      <td>78.378</td>\n",
       "      <td>20.500</td>\n",
       "      <td>27.526</td>\n",
       "      <td>36.486</td>\n",
       "      <td>96150</td>\n",
       "    </tr>\n",
       "    <tr>\n",
       "      <th>269</th>\n",
       "      <td>2020-06-27</td>\n",
       "      <td>207.770</td>\n",
       "      <td>2.865</td>\n",
       "      <td>0.081</td>\n",
       "      <td>1.794</td>\n",
       "      <td>78.412</td>\n",
       "      <td>20.812</td>\n",
       "      <td>28.842</td>\n",
       "      <td>21.081</td>\n",
       "      <td>107001</td>\n",
       "    </tr>\n",
       "    <tr>\n",
       "      <th>270</th>\n",
       "      <td>2020-06-28</td>\n",
       "      <td>282.568</td>\n",
       "      <td>1.730</td>\n",
       "      <td>0.000</td>\n",
       "      <td>1.820</td>\n",
       "      <td>72.736</td>\n",
       "      <td>21.000</td>\n",
       "      <td>29.053</td>\n",
       "      <td>7.297</td>\n",
       "      <td>98568</td>\n",
       "    </tr>\n",
       "    <tr>\n",
       "      <th>271</th>\n",
       "      <td>2020-06-29</td>\n",
       "      <td>137.027</td>\n",
       "      <td>2.257</td>\n",
       "      <td>0.088</td>\n",
       "      <td>2.043</td>\n",
       "      <td>70.473</td>\n",
       "      <td>19.625</td>\n",
       "      <td>26.000</td>\n",
       "      <td>15.541</td>\n",
       "      <td>70053</td>\n",
       "    </tr>\n",
       "    <tr>\n",
       "      <th>272</th>\n",
       "      <td>2020-06-30</td>\n",
       "      <td>120.797</td>\n",
       "      <td>3.622</td>\n",
       "      <td>0.432</td>\n",
       "      <td>5.574</td>\n",
       "      <td>77.061</td>\n",
       "      <td>19.125</td>\n",
       "      <td>26.053</td>\n",
       "      <td>41.284</td>\n",
       "      <td>38086</td>\n",
       "    </tr>\n",
       "  </tbody>\n",
       "</table>\n",
       "</div>"
      ],
      "text/plain": [
       "      date_time  wind_direction  sky_condition  precipitation_form  \\\n",
       "268  2020-06-26         228.662          3.980               0.223   \n",
       "269  2020-06-27         207.770          2.865               0.081   \n",
       "270  2020-06-28         282.568          1.730               0.000   \n",
       "271  2020-06-29         137.027          2.257               0.088   \n",
       "272  2020-06-30         120.797          3.622               0.432   \n",
       "\n",
       "     wind_speed  humidity  low_temp  high_temp  Precipitation_Probability  \\\n",
       "268       2.271    78.378    20.500     27.526                     36.486   \n",
       "269       1.794    78.412    20.812     28.842                     21.081   \n",
       "270       1.820    72.736    21.000     29.053                      7.297   \n",
       "271       2.043    70.473    19.625     26.000                     15.541   \n",
       "272       5.574    77.061    19.125     26.053                     41.284   \n",
       "\n",
       "     number_of_rentals  \n",
       "268              96150  \n",
       "269             107001  \n",
       "270              98568  \n",
       "271              70053  \n",
       "272              38086  "
      ]
     },
     "execution_count": 5,
     "metadata": {},
     "output_type": "execute_result"
    }
   ],
   "source": [
    "train.tail()"
   ]
  },
  {
   "cell_type": "code",
   "execution_count": 6,
   "metadata": {},
   "outputs": [],
   "source": [
    "# 날짜 데이트 객체로 변환\n",
    "train['date_time'] = pd.to_datetime(train['date_time'])\n",
    "test['date_time'] = pd.to_datetime(test['date_time'])"
   ]
  },
  {
   "cell_type": "code",
   "execution_count": 7,
   "metadata": {},
   "outputs": [],
   "source": [
    "# 연 월 일 저장\n",
    "\n",
    "train['year'] = train['date_time'].dt.year\n",
    "test['year'] = test['date_time'].dt.year\n",
    "\n",
    "train['month'] = train['date_time'].dt.month\n",
    "test['month'] = test['date_time'].dt.month\n",
    "\n",
    "train['day'] = train['date_time'].dt.day\n",
    "test['day'] = test['date_time'].dt.day"
   ]
  },
  {
   "cell_type": "code",
   "execution_count": 8,
   "metadata": {},
   "outputs": [
    {
     "data": {
      "text/html": [
       "<div>\n",
       "<style scoped>\n",
       "    .dataframe tbody tr th:only-of-type {\n",
       "        vertical-align: middle;\n",
       "    }\n",
       "\n",
       "    .dataframe tbody tr th {\n",
       "        vertical-align: top;\n",
       "    }\n",
       "\n",
       "    .dataframe thead th {\n",
       "        text-align: right;\n",
       "    }\n",
       "</style>\n",
       "<table border=\"1\" class=\"dataframe\">\n",
       "  <thead>\n",
       "    <tr style=\"text-align: right;\">\n",
       "      <th></th>\n",
       "      <th>date_time</th>\n",
       "      <th>wind_direction</th>\n",
       "      <th>sky_condition</th>\n",
       "      <th>precipitation_form</th>\n",
       "      <th>wind_speed</th>\n",
       "      <th>humidity</th>\n",
       "      <th>low_temp</th>\n",
       "      <th>high_temp</th>\n",
       "      <th>Precipitation_Probability</th>\n",
       "      <th>number_of_rentals</th>\n",
       "      <th>year</th>\n",
       "      <th>month</th>\n",
       "      <th>day</th>\n",
       "    </tr>\n",
       "  </thead>\n",
       "  <tbody>\n",
       "    <tr>\n",
       "      <th>0</th>\n",
       "      <td>2018-04-01</td>\n",
       "      <td>207.500</td>\n",
       "      <td>4.000</td>\n",
       "      <td>0.000</td>\n",
       "      <td>3.050</td>\n",
       "      <td>75.000</td>\n",
       "      <td>12.600</td>\n",
       "      <td>21.000</td>\n",
       "      <td>30.000</td>\n",
       "      <td>22994</td>\n",
       "      <td>2018</td>\n",
       "      <td>4</td>\n",
       "      <td>1</td>\n",
       "    </tr>\n",
       "    <tr>\n",
       "      <th>1</th>\n",
       "      <td>2018-04-02</td>\n",
       "      <td>208.317</td>\n",
       "      <td>2.950</td>\n",
       "      <td>0.000</td>\n",
       "      <td>3.278</td>\n",
       "      <td>69.833</td>\n",
       "      <td>12.812</td>\n",
       "      <td>19.000</td>\n",
       "      <td>19.500</td>\n",
       "      <td>28139</td>\n",
       "      <td>2018</td>\n",
       "      <td>4</td>\n",
       "      <td>2</td>\n",
       "    </tr>\n",
       "    <tr>\n",
       "      <th>2</th>\n",
       "      <td>2018-04-03</td>\n",
       "      <td>213.516</td>\n",
       "      <td>2.911</td>\n",
       "      <td>0.000</td>\n",
       "      <td>2.690</td>\n",
       "      <td>74.879</td>\n",
       "      <td>10.312</td>\n",
       "      <td>15.316</td>\n",
       "      <td>19.113</td>\n",
       "      <td>26817</td>\n",
       "      <td>2018</td>\n",
       "      <td>4</td>\n",
       "      <td>3</td>\n",
       "    </tr>\n",
       "    <tr>\n",
       "      <th>3</th>\n",
       "      <td>2018-04-04</td>\n",
       "      <td>143.836</td>\n",
       "      <td>3.692</td>\n",
       "      <td>0.425</td>\n",
       "      <td>3.138</td>\n",
       "      <td>71.849</td>\n",
       "      <td>8.312</td>\n",
       "      <td>12.368</td>\n",
       "      <td>43.493</td>\n",
       "      <td>26034</td>\n",
       "      <td>2018</td>\n",
       "      <td>4</td>\n",
       "      <td>4</td>\n",
       "    </tr>\n",
       "    <tr>\n",
       "      <th>4</th>\n",
       "      <td>2018-04-05</td>\n",
       "      <td>95.905</td>\n",
       "      <td>4.000</td>\n",
       "      <td>0.723</td>\n",
       "      <td>3.186</td>\n",
       "      <td>73.784</td>\n",
       "      <td>5.875</td>\n",
       "      <td>10.421</td>\n",
       "      <td>63.378</td>\n",
       "      <td>2833</td>\n",
       "      <td>2018</td>\n",
       "      <td>4</td>\n",
       "      <td>5</td>\n",
       "    </tr>\n",
       "  </tbody>\n",
       "</table>\n",
       "</div>"
      ],
      "text/plain": [
       "   date_time  wind_direction  sky_condition  precipitation_form  wind_speed  \\\n",
       "0 2018-04-01         207.500          4.000               0.000       3.050   \n",
       "1 2018-04-02         208.317          2.950               0.000       3.278   \n",
       "2 2018-04-03         213.516          2.911               0.000       2.690   \n",
       "3 2018-04-04         143.836          3.692               0.425       3.138   \n",
       "4 2018-04-05          95.905          4.000               0.723       3.186   \n",
       "\n",
       "   humidity  low_temp  high_temp  Precipitation_Probability  \\\n",
       "0    75.000    12.600     21.000                     30.000   \n",
       "1    69.833    12.812     19.000                     19.500   \n",
       "2    74.879    10.312     15.316                     19.113   \n",
       "3    71.849     8.312     12.368                     43.493   \n",
       "4    73.784     5.875     10.421                     63.378   \n",
       "\n",
       "   number_of_rentals  year  month  day  \n",
       "0              22994  2018      4    1  \n",
       "1              28139  2018      4    2  \n",
       "2              26817  2018      4    3  \n",
       "3              26034  2018      4    4  \n",
       "4               2833  2018      4    5  "
      ]
     },
     "execution_count": 8,
     "metadata": {},
     "output_type": "execute_result"
    }
   ],
   "source": [
    "train.head()"
   ]
  },
  {
   "cell_type": "code",
   "execution_count": 9,
   "metadata": {},
   "outputs": [],
   "source": [
    "# 요일 저장\n",
    "\n",
    "train['daysOfWeek'] = train['date_time'].dt.day_name().str[:2].map({'Mo' : 0, 'Tu' : 1, 'We' : 2, 'Th' : 3, 'Fr' : 4, 'Sa' : 5, 'Su' : 6})\n",
    "test['daysOfWeek'] = test['date_time'].dt.day_name().str[:2].map({'Mo' : 0, 'Tu' : 1, 'We' : 2, 'Th' : 3, 'Fr' : 4, 'Sa' : 5, 'Su' : 6})"
   ]
  },
  {
   "cell_type": "code",
   "execution_count": 10,
   "metadata": {},
   "outputs": [
    {
     "data": {
      "text/html": [
       "<div>\n",
       "<style scoped>\n",
       "    .dataframe tbody tr th:only-of-type {\n",
       "        vertical-align: middle;\n",
       "    }\n",
       "\n",
       "    .dataframe tbody tr th {\n",
       "        vertical-align: top;\n",
       "    }\n",
       "\n",
       "    .dataframe thead th {\n",
       "        text-align: right;\n",
       "    }\n",
       "</style>\n",
       "<table border=\"1\" class=\"dataframe\">\n",
       "  <thead>\n",
       "    <tr style=\"text-align: right;\">\n",
       "      <th></th>\n",
       "      <th>date_time</th>\n",
       "      <th>wind_direction</th>\n",
       "      <th>sky_condition</th>\n",
       "      <th>precipitation_form</th>\n",
       "      <th>wind_speed</th>\n",
       "      <th>humidity</th>\n",
       "      <th>low_temp</th>\n",
       "      <th>high_temp</th>\n",
       "      <th>Precipitation_Probability</th>\n",
       "      <th>number_of_rentals</th>\n",
       "      <th>year</th>\n",
       "      <th>month</th>\n",
       "      <th>day</th>\n",
       "      <th>daysOfWeek</th>\n",
       "    </tr>\n",
       "  </thead>\n",
       "  <tbody>\n",
       "    <tr>\n",
       "      <th>0</th>\n",
       "      <td>2018-04-01</td>\n",
       "      <td>207.500</td>\n",
       "      <td>4.000</td>\n",
       "      <td>0.000</td>\n",
       "      <td>3.050</td>\n",
       "      <td>75.000</td>\n",
       "      <td>12.600</td>\n",
       "      <td>21.000</td>\n",
       "      <td>30.000</td>\n",
       "      <td>22994</td>\n",
       "      <td>2018</td>\n",
       "      <td>4</td>\n",
       "      <td>1</td>\n",
       "      <td>6</td>\n",
       "    </tr>\n",
       "    <tr>\n",
       "      <th>1</th>\n",
       "      <td>2018-04-02</td>\n",
       "      <td>208.317</td>\n",
       "      <td>2.950</td>\n",
       "      <td>0.000</td>\n",
       "      <td>3.278</td>\n",
       "      <td>69.833</td>\n",
       "      <td>12.812</td>\n",
       "      <td>19.000</td>\n",
       "      <td>19.500</td>\n",
       "      <td>28139</td>\n",
       "      <td>2018</td>\n",
       "      <td>4</td>\n",
       "      <td>2</td>\n",
       "      <td>0</td>\n",
       "    </tr>\n",
       "    <tr>\n",
       "      <th>2</th>\n",
       "      <td>2018-04-03</td>\n",
       "      <td>213.516</td>\n",
       "      <td>2.911</td>\n",
       "      <td>0.000</td>\n",
       "      <td>2.690</td>\n",
       "      <td>74.879</td>\n",
       "      <td>10.312</td>\n",
       "      <td>15.316</td>\n",
       "      <td>19.113</td>\n",
       "      <td>26817</td>\n",
       "      <td>2018</td>\n",
       "      <td>4</td>\n",
       "      <td>3</td>\n",
       "      <td>1</td>\n",
       "    </tr>\n",
       "    <tr>\n",
       "      <th>3</th>\n",
       "      <td>2018-04-04</td>\n",
       "      <td>143.836</td>\n",
       "      <td>3.692</td>\n",
       "      <td>0.425</td>\n",
       "      <td>3.138</td>\n",
       "      <td>71.849</td>\n",
       "      <td>8.312</td>\n",
       "      <td>12.368</td>\n",
       "      <td>43.493</td>\n",
       "      <td>26034</td>\n",
       "      <td>2018</td>\n",
       "      <td>4</td>\n",
       "      <td>4</td>\n",
       "      <td>2</td>\n",
       "    </tr>\n",
       "    <tr>\n",
       "      <th>4</th>\n",
       "      <td>2018-04-05</td>\n",
       "      <td>95.905</td>\n",
       "      <td>4.000</td>\n",
       "      <td>0.723</td>\n",
       "      <td>3.186</td>\n",
       "      <td>73.784</td>\n",
       "      <td>5.875</td>\n",
       "      <td>10.421</td>\n",
       "      <td>63.378</td>\n",
       "      <td>2833</td>\n",
       "      <td>2018</td>\n",
       "      <td>4</td>\n",
       "      <td>5</td>\n",
       "      <td>3</td>\n",
       "    </tr>\n",
       "    <tr>\n",
       "      <th>...</th>\n",
       "      <td>...</td>\n",
       "      <td>...</td>\n",
       "      <td>...</td>\n",
       "      <td>...</td>\n",
       "      <td>...</td>\n",
       "      <td>...</td>\n",
       "      <td>...</td>\n",
       "      <td>...</td>\n",
       "      <td>...</td>\n",
       "      <td>...</td>\n",
       "      <td>...</td>\n",
       "      <td>...</td>\n",
       "      <td>...</td>\n",
       "      <td>...</td>\n",
       "    </tr>\n",
       "    <tr>\n",
       "      <th>268</th>\n",
       "      <td>2020-06-26</td>\n",
       "      <td>228.662</td>\n",
       "      <td>3.980</td>\n",
       "      <td>0.223</td>\n",
       "      <td>2.271</td>\n",
       "      <td>78.378</td>\n",
       "      <td>20.500</td>\n",
       "      <td>27.526</td>\n",
       "      <td>36.486</td>\n",
       "      <td>96150</td>\n",
       "      <td>2020</td>\n",
       "      <td>6</td>\n",
       "      <td>26</td>\n",
       "      <td>4</td>\n",
       "    </tr>\n",
       "    <tr>\n",
       "      <th>269</th>\n",
       "      <td>2020-06-27</td>\n",
       "      <td>207.770</td>\n",
       "      <td>2.865</td>\n",
       "      <td>0.081</td>\n",
       "      <td>1.794</td>\n",
       "      <td>78.412</td>\n",
       "      <td>20.812</td>\n",
       "      <td>28.842</td>\n",
       "      <td>21.081</td>\n",
       "      <td>107001</td>\n",
       "      <td>2020</td>\n",
       "      <td>6</td>\n",
       "      <td>27</td>\n",
       "      <td>5</td>\n",
       "    </tr>\n",
       "    <tr>\n",
       "      <th>270</th>\n",
       "      <td>2020-06-28</td>\n",
       "      <td>282.568</td>\n",
       "      <td>1.730</td>\n",
       "      <td>0.000</td>\n",
       "      <td>1.820</td>\n",
       "      <td>72.736</td>\n",
       "      <td>21.000</td>\n",
       "      <td>29.053</td>\n",
       "      <td>7.297</td>\n",
       "      <td>98568</td>\n",
       "      <td>2020</td>\n",
       "      <td>6</td>\n",
       "      <td>28</td>\n",
       "      <td>6</td>\n",
       "    </tr>\n",
       "    <tr>\n",
       "      <th>271</th>\n",
       "      <td>2020-06-29</td>\n",
       "      <td>137.027</td>\n",
       "      <td>2.257</td>\n",
       "      <td>0.088</td>\n",
       "      <td>2.043</td>\n",
       "      <td>70.473</td>\n",
       "      <td>19.625</td>\n",
       "      <td>26.000</td>\n",
       "      <td>15.541</td>\n",
       "      <td>70053</td>\n",
       "      <td>2020</td>\n",
       "      <td>6</td>\n",
       "      <td>29</td>\n",
       "      <td>0</td>\n",
       "    </tr>\n",
       "    <tr>\n",
       "      <th>272</th>\n",
       "      <td>2020-06-30</td>\n",
       "      <td>120.797</td>\n",
       "      <td>3.622</td>\n",
       "      <td>0.432</td>\n",
       "      <td>5.574</td>\n",
       "      <td>77.061</td>\n",
       "      <td>19.125</td>\n",
       "      <td>26.053</td>\n",
       "      <td>41.284</td>\n",
       "      <td>38086</td>\n",
       "      <td>2020</td>\n",
       "      <td>6</td>\n",
       "      <td>30</td>\n",
       "      <td>1</td>\n",
       "    </tr>\n",
       "  </tbody>\n",
       "</table>\n",
       "<p>273 rows × 14 columns</p>\n",
       "</div>"
      ],
      "text/plain": [
       "     date_time  wind_direction  sky_condition  precipitation_form  wind_speed  \\\n",
       "0   2018-04-01         207.500          4.000               0.000       3.050   \n",
       "1   2018-04-02         208.317          2.950               0.000       3.278   \n",
       "2   2018-04-03         213.516          2.911               0.000       2.690   \n",
       "3   2018-04-04         143.836          3.692               0.425       3.138   \n",
       "4   2018-04-05          95.905          4.000               0.723       3.186   \n",
       "..         ...             ...            ...                 ...         ...   \n",
       "268 2020-06-26         228.662          3.980               0.223       2.271   \n",
       "269 2020-06-27         207.770          2.865               0.081       1.794   \n",
       "270 2020-06-28         282.568          1.730               0.000       1.820   \n",
       "271 2020-06-29         137.027          2.257               0.088       2.043   \n",
       "272 2020-06-30         120.797          3.622               0.432       5.574   \n",
       "\n",
       "     humidity  low_temp  high_temp  Precipitation_Probability  \\\n",
       "0      75.000    12.600     21.000                     30.000   \n",
       "1      69.833    12.812     19.000                     19.500   \n",
       "2      74.879    10.312     15.316                     19.113   \n",
       "3      71.849     8.312     12.368                     43.493   \n",
       "4      73.784     5.875     10.421                     63.378   \n",
       "..        ...       ...        ...                        ...   \n",
       "268    78.378    20.500     27.526                     36.486   \n",
       "269    78.412    20.812     28.842                     21.081   \n",
       "270    72.736    21.000     29.053                      7.297   \n",
       "271    70.473    19.625     26.000                     15.541   \n",
       "272    77.061    19.125     26.053                     41.284   \n",
       "\n",
       "     number_of_rentals  year  month  day  daysOfWeek  \n",
       "0                22994  2018      4    1           6  \n",
       "1                28139  2018      4    2           0  \n",
       "2                26817  2018      4    3           1  \n",
       "3                26034  2018      4    4           2  \n",
       "4                 2833  2018      4    5           3  \n",
       "..                 ...   ...    ...  ...         ...  \n",
       "268              96150  2020      6   26           4  \n",
       "269             107001  2020      6   27           5  \n",
       "270              98568  2020      6   28           6  \n",
       "271              70053  2020      6   29           0  \n",
       "272              38086  2020      6   30           1  \n",
       "\n",
       "[273 rows x 14 columns]"
      ]
     },
     "execution_count": 10,
     "metadata": {},
     "output_type": "execute_result"
    }
   ],
   "source": [
    "train"
   ]
  },
  {
   "cell_type": "code",
   "execution_count": 11,
   "metadata": {},
   "outputs": [
    {
     "name": "stdout",
     "output_type": "stream",
     "text": [
      "<class 'pandas.core.frame.DataFrame'>\n",
      "RangeIndex: 273 entries, 0 to 272\n",
      "Data columns (total 14 columns):\n",
      " #   Column                     Non-Null Count  Dtype         \n",
      "---  ------                     --------------  -----         \n",
      " 0   date_time                  273 non-null    datetime64[ns]\n",
      " 1   wind_direction             273 non-null    float64       \n",
      " 2   sky_condition              273 non-null    float64       \n",
      " 3   precipitation_form         273 non-null    float64       \n",
      " 4   wind_speed                 273 non-null    float64       \n",
      " 5   humidity                   273 non-null    float64       \n",
      " 6   low_temp                   273 non-null    float64       \n",
      " 7   high_temp                  273 non-null    float64       \n",
      " 8   Precipitation_Probability  273 non-null    float64       \n",
      " 9   number_of_rentals          273 non-null    int64         \n",
      " 10  year                       273 non-null    int64         \n",
      " 11  month                      273 non-null    int64         \n",
      " 12  day                        273 non-null    int64         \n",
      " 13  daysOfWeek                 273 non-null    int64         \n",
      "dtypes: datetime64[ns](1), float64(8), int64(5)\n",
      "memory usage: 30.0 KB\n"
     ]
    }
   ],
   "source": [
    "train.info()"
   ]
  },
  {
   "cell_type": "code",
   "execution_count": 12,
   "metadata": {},
   "outputs": [
    {
     "data": {
      "text/html": [
       "<div>\n",
       "<style scoped>\n",
       "    .dataframe tbody tr th:only-of-type {\n",
       "        vertical-align: middle;\n",
       "    }\n",
       "\n",
       "    .dataframe tbody tr th {\n",
       "        vertical-align: top;\n",
       "    }\n",
       "\n",
       "    .dataframe thead th {\n",
       "        text-align: right;\n",
       "    }\n",
       "</style>\n",
       "<table border=\"1\" class=\"dataframe\">\n",
       "  <thead>\n",
       "    <tr style=\"text-align: right;\">\n",
       "      <th></th>\n",
       "      <th>wind_direction</th>\n",
       "      <th>sky_condition</th>\n",
       "      <th>precipitation_form</th>\n",
       "      <th>wind_speed</th>\n",
       "      <th>humidity</th>\n",
       "      <th>low_temp</th>\n",
       "      <th>high_temp</th>\n",
       "      <th>Precipitation_Probability</th>\n",
       "      <th>number_of_rentals</th>\n",
       "      <th>year</th>\n",
       "      <th>month</th>\n",
       "      <th>day</th>\n",
       "      <th>daysOfWeek</th>\n",
       "    </tr>\n",
       "  </thead>\n",
       "  <tbody>\n",
       "    <tr>\n",
       "      <th>count</th>\n",
       "      <td>273.000000</td>\n",
       "      <td>273.000000</td>\n",
       "      <td>273.000000</td>\n",
       "      <td>273.000000</td>\n",
       "      <td>273.000000</td>\n",
       "      <td>273.000000</td>\n",
       "      <td>273.000000</td>\n",
       "      <td>273.000000</td>\n",
       "      <td>273.000000</td>\n",
       "      <td>273.000000</td>\n",
       "      <td>273.000000</td>\n",
       "      <td>273.000000</td>\n",
       "      <td>273.000000</td>\n",
       "    </tr>\n",
       "    <tr>\n",
       "      <th>mean</th>\n",
       "      <td>202.750967</td>\n",
       "      <td>2.288256</td>\n",
       "      <td>0.100963</td>\n",
       "      <td>2.480963</td>\n",
       "      <td>56.745491</td>\n",
       "      <td>13.795249</td>\n",
       "      <td>23.384733</td>\n",
       "      <td>16.878103</td>\n",
       "      <td>59574.978022</td>\n",
       "      <td>2019.000000</td>\n",
       "      <td>5.000000</td>\n",
       "      <td>15.670330</td>\n",
       "      <td>3.000000</td>\n",
       "    </tr>\n",
       "    <tr>\n",
       "      <th>std</th>\n",
       "      <td>56.659232</td>\n",
       "      <td>0.961775</td>\n",
       "      <td>0.203193</td>\n",
       "      <td>0.884397</td>\n",
       "      <td>12.351268</td>\n",
       "      <td>5.107711</td>\n",
       "      <td>5.204605</td>\n",
       "      <td>16.643772</td>\n",
       "      <td>27659.575774</td>\n",
       "      <td>0.817996</td>\n",
       "      <td>0.813489</td>\n",
       "      <td>8.774195</td>\n",
       "      <td>2.003673</td>\n",
       "    </tr>\n",
       "    <tr>\n",
       "      <th>min</th>\n",
       "      <td>57.047000</td>\n",
       "      <td>1.000000</td>\n",
       "      <td>0.000000</td>\n",
       "      <td>0.753000</td>\n",
       "      <td>24.831000</td>\n",
       "      <td>1.938000</td>\n",
       "      <td>9.895000</td>\n",
       "      <td>0.000000</td>\n",
       "      <td>1037.000000</td>\n",
       "      <td>2018.000000</td>\n",
       "      <td>4.000000</td>\n",
       "      <td>1.000000</td>\n",
       "      <td>0.000000</td>\n",
       "    </tr>\n",
       "    <tr>\n",
       "      <th>25%</th>\n",
       "      <td>171.541000</td>\n",
       "      <td>1.405000</td>\n",
       "      <td>0.000000</td>\n",
       "      <td>1.820000</td>\n",
       "      <td>47.196000</td>\n",
       "      <td>9.938000</td>\n",
       "      <td>19.842000</td>\n",
       "      <td>4.054000</td>\n",
       "      <td>36761.000000</td>\n",
       "      <td>2018.000000</td>\n",
       "      <td>4.000000</td>\n",
       "      <td>8.000000</td>\n",
       "      <td>1.000000</td>\n",
       "    </tr>\n",
       "    <tr>\n",
       "      <th>50%</th>\n",
       "      <td>209.774000</td>\n",
       "      <td>2.167000</td>\n",
       "      <td>0.000000</td>\n",
       "      <td>2.411000</td>\n",
       "      <td>55.845000</td>\n",
       "      <td>14.375000</td>\n",
       "      <td>24.158000</td>\n",
       "      <td>12.162000</td>\n",
       "      <td>63032.000000</td>\n",
       "      <td>2019.000000</td>\n",
       "      <td>5.000000</td>\n",
       "      <td>16.000000</td>\n",
       "      <td>3.000000</td>\n",
       "    </tr>\n",
       "    <tr>\n",
       "      <th>75%</th>\n",
       "      <td>238.412000</td>\n",
       "      <td>3.000000</td>\n",
       "      <td>0.088000</td>\n",
       "      <td>2.924000</td>\n",
       "      <td>66.419000</td>\n",
       "      <td>18.000000</td>\n",
       "      <td>27.526000</td>\n",
       "      <td>22.973000</td>\n",
       "      <td>81515.000000</td>\n",
       "      <td>2020.000000</td>\n",
       "      <td>6.000000</td>\n",
       "      <td>23.000000</td>\n",
       "      <td>5.000000</td>\n",
       "    </tr>\n",
       "    <tr>\n",
       "      <th>max</th>\n",
       "      <td>321.622000</td>\n",
       "      <td>4.000000</td>\n",
       "      <td>1.000000</td>\n",
       "      <td>5.607000</td>\n",
       "      <td>88.885000</td>\n",
       "      <td>22.312000</td>\n",
       "      <td>33.421000</td>\n",
       "      <td>82.162000</td>\n",
       "      <td>110377.000000</td>\n",
       "      <td>2020.000000</td>\n",
       "      <td>6.000000</td>\n",
       "      <td>31.000000</td>\n",
       "      <td>6.000000</td>\n",
       "    </tr>\n",
       "  </tbody>\n",
       "</table>\n",
       "</div>"
      ],
      "text/plain": [
       "       wind_direction  sky_condition  precipitation_form  wind_speed  \\\n",
       "count      273.000000     273.000000          273.000000  273.000000   \n",
       "mean       202.750967       2.288256            0.100963    2.480963   \n",
       "std         56.659232       0.961775            0.203193    0.884397   \n",
       "min         57.047000       1.000000            0.000000    0.753000   \n",
       "25%        171.541000       1.405000            0.000000    1.820000   \n",
       "50%        209.774000       2.167000            0.000000    2.411000   \n",
       "75%        238.412000       3.000000            0.088000    2.924000   \n",
       "max        321.622000       4.000000            1.000000    5.607000   \n",
       "\n",
       "         humidity    low_temp   high_temp  Precipitation_Probability  \\\n",
       "count  273.000000  273.000000  273.000000                 273.000000   \n",
       "mean    56.745491   13.795249   23.384733                  16.878103   \n",
       "std     12.351268    5.107711    5.204605                  16.643772   \n",
       "min     24.831000    1.938000    9.895000                   0.000000   \n",
       "25%     47.196000    9.938000   19.842000                   4.054000   \n",
       "50%     55.845000   14.375000   24.158000                  12.162000   \n",
       "75%     66.419000   18.000000   27.526000                  22.973000   \n",
       "max     88.885000   22.312000   33.421000                  82.162000   \n",
       "\n",
       "       number_of_rentals         year       month         day  daysOfWeek  \n",
       "count         273.000000   273.000000  273.000000  273.000000  273.000000  \n",
       "mean        59574.978022  2019.000000    5.000000   15.670330    3.000000  \n",
       "std         27659.575774     0.817996    0.813489    8.774195    2.003673  \n",
       "min          1037.000000  2018.000000    4.000000    1.000000    0.000000  \n",
       "25%         36761.000000  2018.000000    4.000000    8.000000    1.000000  \n",
       "50%         63032.000000  2019.000000    5.000000   16.000000    3.000000  \n",
       "75%         81515.000000  2020.000000    6.000000   23.000000    5.000000  \n",
       "max        110377.000000  2020.000000    6.000000   31.000000    6.000000  "
      ]
     },
     "execution_count": 12,
     "metadata": {},
     "output_type": "execute_result"
    }
   ],
   "source": [
    "train.describe()"
   ]
  },
  {
   "cell_type": "code",
   "execution_count": 13,
   "metadata": {},
   "outputs": [],
   "source": [
    "# 원래 날짜는 삭제\n",
    "\n",
    "train = train.drop(['date_time'], axis=1)"
   ]
  },
  {
   "cell_type": "code",
   "execution_count": 14,
   "metadata": {},
   "outputs": [],
   "source": [
    "test = test.drop(['date_time'], axis=1)"
   ]
  },
  {
   "cell_type": "code",
   "execution_count": 15,
   "metadata": {},
   "outputs": [],
   "source": [
    "train['covid'] = 0\n",
    "test['covid'] = 0"
   ]
  },
  {
   "cell_type": "code",
   "execution_count": 16,
   "metadata": {},
   "outputs": [],
   "source": [
    "# 코로나 여부 칼럼 생성 \n",
    "\n",
    "train.loc[(train['year'] == 2020) & (train['month'] >= 2), \"covid\"] = 1\n",
    "train.loc[train['year'] > 2020, \"covid\"] = 1\n",
    "test.loc[(test['year'] == 2020) & (test['month'] >= 2), \"covid\"] = 1\n",
    "test.loc[test['year'] > 2020, \"covid\"] = 1"
   ]
  },
  {
   "cell_type": "code",
   "execution_count": 17,
   "metadata": {},
   "outputs": [
    {
     "data": {
      "text/html": [
       "<div>\n",
       "<style scoped>\n",
       "    .dataframe tbody tr th:only-of-type {\n",
       "        vertical-align: middle;\n",
       "    }\n",
       "\n",
       "    .dataframe tbody tr th {\n",
       "        vertical-align: top;\n",
       "    }\n",
       "\n",
       "    .dataframe thead th {\n",
       "        text-align: right;\n",
       "    }\n",
       "</style>\n",
       "<table border=\"1\" class=\"dataframe\">\n",
       "  <thead>\n",
       "    <tr style=\"text-align: right;\">\n",
       "      <th></th>\n",
       "      <th>wind_direction</th>\n",
       "      <th>sky_condition</th>\n",
       "      <th>precipitation_form</th>\n",
       "      <th>wind_speed</th>\n",
       "      <th>humidity</th>\n",
       "      <th>low_temp</th>\n",
       "      <th>high_temp</th>\n",
       "      <th>Precipitation_Probability</th>\n",
       "      <th>number_of_rentals</th>\n",
       "      <th>year</th>\n",
       "      <th>month</th>\n",
       "      <th>day</th>\n",
       "      <th>daysOfWeek</th>\n",
       "      <th>covid</th>\n",
       "    </tr>\n",
       "  </thead>\n",
       "  <tbody>\n",
       "    <tr>\n",
       "      <th>0</th>\n",
       "      <td>207.500</td>\n",
       "      <td>4.000</td>\n",
       "      <td>0.000</td>\n",
       "      <td>3.050</td>\n",
       "      <td>75.000</td>\n",
       "      <td>12.600</td>\n",
       "      <td>21.000</td>\n",
       "      <td>30.000</td>\n",
       "      <td>22994</td>\n",
       "      <td>2018</td>\n",
       "      <td>4</td>\n",
       "      <td>1</td>\n",
       "      <td>6</td>\n",
       "      <td>0</td>\n",
       "    </tr>\n",
       "    <tr>\n",
       "      <th>1</th>\n",
       "      <td>208.317</td>\n",
       "      <td>2.950</td>\n",
       "      <td>0.000</td>\n",
       "      <td>3.278</td>\n",
       "      <td>69.833</td>\n",
       "      <td>12.812</td>\n",
       "      <td>19.000</td>\n",
       "      <td>19.500</td>\n",
       "      <td>28139</td>\n",
       "      <td>2018</td>\n",
       "      <td>4</td>\n",
       "      <td>2</td>\n",
       "      <td>0</td>\n",
       "      <td>0</td>\n",
       "    </tr>\n",
       "    <tr>\n",
       "      <th>2</th>\n",
       "      <td>213.516</td>\n",
       "      <td>2.911</td>\n",
       "      <td>0.000</td>\n",
       "      <td>2.690</td>\n",
       "      <td>74.879</td>\n",
       "      <td>10.312</td>\n",
       "      <td>15.316</td>\n",
       "      <td>19.113</td>\n",
       "      <td>26817</td>\n",
       "      <td>2018</td>\n",
       "      <td>4</td>\n",
       "      <td>3</td>\n",
       "      <td>1</td>\n",
       "      <td>0</td>\n",
       "    </tr>\n",
       "    <tr>\n",
       "      <th>3</th>\n",
       "      <td>143.836</td>\n",
       "      <td>3.692</td>\n",
       "      <td>0.425</td>\n",
       "      <td>3.138</td>\n",
       "      <td>71.849</td>\n",
       "      <td>8.312</td>\n",
       "      <td>12.368</td>\n",
       "      <td>43.493</td>\n",
       "      <td>26034</td>\n",
       "      <td>2018</td>\n",
       "      <td>4</td>\n",
       "      <td>4</td>\n",
       "      <td>2</td>\n",
       "      <td>0</td>\n",
       "    </tr>\n",
       "    <tr>\n",
       "      <th>4</th>\n",
       "      <td>95.905</td>\n",
       "      <td>4.000</td>\n",
       "      <td>0.723</td>\n",
       "      <td>3.186</td>\n",
       "      <td>73.784</td>\n",
       "      <td>5.875</td>\n",
       "      <td>10.421</td>\n",
       "      <td>63.378</td>\n",
       "      <td>2833</td>\n",
       "      <td>2018</td>\n",
       "      <td>4</td>\n",
       "      <td>5</td>\n",
       "      <td>3</td>\n",
       "      <td>0</td>\n",
       "    </tr>\n",
       "    <tr>\n",
       "      <th>...</th>\n",
       "      <td>...</td>\n",
       "      <td>...</td>\n",
       "      <td>...</td>\n",
       "      <td>...</td>\n",
       "      <td>...</td>\n",
       "      <td>...</td>\n",
       "      <td>...</td>\n",
       "      <td>...</td>\n",
       "      <td>...</td>\n",
       "      <td>...</td>\n",
       "      <td>...</td>\n",
       "      <td>...</td>\n",
       "      <td>...</td>\n",
       "      <td>...</td>\n",
       "    </tr>\n",
       "    <tr>\n",
       "      <th>268</th>\n",
       "      <td>228.662</td>\n",
       "      <td>3.980</td>\n",
       "      <td>0.223</td>\n",
       "      <td>2.271</td>\n",
       "      <td>78.378</td>\n",
       "      <td>20.500</td>\n",
       "      <td>27.526</td>\n",
       "      <td>36.486</td>\n",
       "      <td>96150</td>\n",
       "      <td>2020</td>\n",
       "      <td>6</td>\n",
       "      <td>26</td>\n",
       "      <td>4</td>\n",
       "      <td>1</td>\n",
       "    </tr>\n",
       "    <tr>\n",
       "      <th>269</th>\n",
       "      <td>207.770</td>\n",
       "      <td>2.865</td>\n",
       "      <td>0.081</td>\n",
       "      <td>1.794</td>\n",
       "      <td>78.412</td>\n",
       "      <td>20.812</td>\n",
       "      <td>28.842</td>\n",
       "      <td>21.081</td>\n",
       "      <td>107001</td>\n",
       "      <td>2020</td>\n",
       "      <td>6</td>\n",
       "      <td>27</td>\n",
       "      <td>5</td>\n",
       "      <td>1</td>\n",
       "    </tr>\n",
       "    <tr>\n",
       "      <th>270</th>\n",
       "      <td>282.568</td>\n",
       "      <td>1.730</td>\n",
       "      <td>0.000</td>\n",
       "      <td>1.820</td>\n",
       "      <td>72.736</td>\n",
       "      <td>21.000</td>\n",
       "      <td>29.053</td>\n",
       "      <td>7.297</td>\n",
       "      <td>98568</td>\n",
       "      <td>2020</td>\n",
       "      <td>6</td>\n",
       "      <td>28</td>\n",
       "      <td>6</td>\n",
       "      <td>1</td>\n",
       "    </tr>\n",
       "    <tr>\n",
       "      <th>271</th>\n",
       "      <td>137.027</td>\n",
       "      <td>2.257</td>\n",
       "      <td>0.088</td>\n",
       "      <td>2.043</td>\n",
       "      <td>70.473</td>\n",
       "      <td>19.625</td>\n",
       "      <td>26.000</td>\n",
       "      <td>15.541</td>\n",
       "      <td>70053</td>\n",
       "      <td>2020</td>\n",
       "      <td>6</td>\n",
       "      <td>29</td>\n",
       "      <td>0</td>\n",
       "      <td>1</td>\n",
       "    </tr>\n",
       "    <tr>\n",
       "      <th>272</th>\n",
       "      <td>120.797</td>\n",
       "      <td>3.622</td>\n",
       "      <td>0.432</td>\n",
       "      <td>5.574</td>\n",
       "      <td>77.061</td>\n",
       "      <td>19.125</td>\n",
       "      <td>26.053</td>\n",
       "      <td>41.284</td>\n",
       "      <td>38086</td>\n",
       "      <td>2020</td>\n",
       "      <td>6</td>\n",
       "      <td>30</td>\n",
       "      <td>1</td>\n",
       "      <td>1</td>\n",
       "    </tr>\n",
       "  </tbody>\n",
       "</table>\n",
       "<p>273 rows × 14 columns</p>\n",
       "</div>"
      ],
      "text/plain": [
       "     wind_direction  sky_condition  precipitation_form  wind_speed  humidity  \\\n",
       "0           207.500          4.000               0.000       3.050    75.000   \n",
       "1           208.317          2.950               0.000       3.278    69.833   \n",
       "2           213.516          2.911               0.000       2.690    74.879   \n",
       "3           143.836          3.692               0.425       3.138    71.849   \n",
       "4            95.905          4.000               0.723       3.186    73.784   \n",
       "..              ...            ...                 ...         ...       ...   \n",
       "268         228.662          3.980               0.223       2.271    78.378   \n",
       "269         207.770          2.865               0.081       1.794    78.412   \n",
       "270         282.568          1.730               0.000       1.820    72.736   \n",
       "271         137.027          2.257               0.088       2.043    70.473   \n",
       "272         120.797          3.622               0.432       5.574    77.061   \n",
       "\n",
       "     low_temp  high_temp  Precipitation_Probability  number_of_rentals  year  \\\n",
       "0      12.600     21.000                     30.000              22994  2018   \n",
       "1      12.812     19.000                     19.500              28139  2018   \n",
       "2      10.312     15.316                     19.113              26817  2018   \n",
       "3       8.312     12.368                     43.493              26034  2018   \n",
       "4       5.875     10.421                     63.378               2833  2018   \n",
       "..        ...        ...                        ...                ...   ...   \n",
       "268    20.500     27.526                     36.486              96150  2020   \n",
       "269    20.812     28.842                     21.081             107001  2020   \n",
       "270    21.000     29.053                      7.297              98568  2020   \n",
       "271    19.625     26.000                     15.541              70053  2020   \n",
       "272    19.125     26.053                     41.284              38086  2020   \n",
       "\n",
       "     month  day  daysOfWeek  covid  \n",
       "0        4    1           6      0  \n",
       "1        4    2           0      0  \n",
       "2        4    3           1      0  \n",
       "3        4    4           2      0  \n",
       "4        4    5           3      0  \n",
       "..     ...  ...         ...    ...  \n",
       "268      6   26           4      1  \n",
       "269      6   27           5      1  \n",
       "270      6   28           6      1  \n",
       "271      6   29           0      1  \n",
       "272      6   30           1      1  \n",
       "\n",
       "[273 rows x 14 columns]"
      ]
     },
     "execution_count": 17,
     "metadata": {},
     "output_type": "execute_result"
    }
   ],
   "source": [
    "train"
   ]
  },
  {
   "cell_type": "code",
   "execution_count": 18,
   "metadata": {},
   "outputs": [
    {
     "data": {
      "image/png": "[encoded data removed]",
      "text/plain": [
       "<Figure size 432x288 with 2 Axes>"
      ]
     },
     "metadata": {
      "needs_background": "light"
     },
     "output_type": "display_data"
    }
   ],
   "source": [
    "import seaborn as sns\n",
    "import matplotlib.pyplot as plt\n",
    "# 상관관계\n",
    "corr = train.corr()\n",
    "sns.heatmap(corr, cmap='viridis')\n",
    "plt.show()"
   ]
  },
  {
   "cell_type": "code",
   "execution_count": 19,
   "metadata": {},
   "outputs": [
    {
     "data": {
      "text/plain": [
       "wind_direction               0.209996\n",
       "sky_condition               -0.384234\n",
       "precipitation_form          -0.420458\n",
       "wind_speed                  -0.464761\n",
       "humidity                    -0.147824\n",
       "low_temp                     0.317741\n",
       "high_temp                    0.423113\n",
       "Precipitation_Probability   -0.449225\n",
       "number_of_rentals            1.000000\n",
       "year                         0.739011\n",
       "month                        0.320019\n",
       "day                          0.050760\n",
       "daysOfWeek                  -0.007583\n",
       "covid                        0.559305\n",
       "Name: number_of_rentals, dtype: float64"
      ]
     },
     "execution_count": 19,
     "metadata": {},
     "output_type": "execute_result"
    }
   ],
   "source": [
    "# 상관관계\n",
    "\n",
    "corr = train.corr()\n",
    "corr['number_of_rentals']"
   ]
  },
  {
   "cell_type": "code",
   "execution_count": 20,
   "metadata": {},
   "outputs": [
    {
     "data": {
      "text/plain": [
       "<matplotlib.collections.PathCollection at 0x1eb44e74e08>"
      ]
     },
     "execution_count": 20,
     "metadata": {},
     "output_type": "execute_result"
    },
    {
     "data": {
      "image/png": "[encoded data removed]",
      "text/plain": [
       "<Figure size 432x288 with 1 Axes>"
      ]
     },
     "metadata": {
      "needs_background": "light"
     },
     "output_type": "display_data"
    }
   ],
   "source": [
    "# 그래프로 이상치를 찾기는 뭔가 어렵다\n",
    "\n",
    "plt.scatter(x=train['Precipitation_Probability'], y=train['number_of_rentals'])"
   ]
  },
  {
   "cell_type": "code",
   "execution_count": 21,
   "metadata": {},
   "outputs": [
    {
     "data": {
      "text/plain": [
       "<matplotlib.collections.PathCollection at 0x1eb44dae048>"
      ]
     },
     "execution_count": 21,
     "metadata": {},
     "output_type": "execute_result"
    },
    {
     "data": {
      "image/png": "[encoded data removed]",
      "text/plain": [
       "<Figure size 432x288 with 1 Axes>"
      ]
     },
     "metadata": {
      "needs_background": "light"
     },
     "output_type": "display_data"
    }
   ],
   "source": [
    "plt.scatter(x=train['high_temp'], y=train['number_of_rentals'])"
   ]
  },
  {
   "cell_type": "code",
   "execution_count": 22,
   "metadata": {},
   "outputs": [
    {
     "data": {
      "text/plain": [
       "<matplotlib.axes._subplots.AxesSubplot at 0x1eb44f4ecc8>"
      ]
     },
     "execution_count": 22,
     "metadata": {},
     "output_type": "execute_result"
    },
    {
     "data": {
      "image/png": "[encoded data removed]",
      "text/plain": [
       "<Figure size 432x288 with 1 Axes>"
      ]
     },
     "metadata": {
      "needs_background": "light"
     },
     "output_type": "display_data"
    }
   ],
   "source": [
    "# 로그변환을 했더니 더욱 치우친 값이 나와서 이걸로 사용\n",
    "\n",
    "train['number_of_rentals'].hist()"
   ]
  },
  {
   "cell_type": "code",
   "execution_count": 23,
   "metadata": {},
   "outputs": [
    {
     "data": {
      "text/plain": [
       "<matplotlib.axes._subplots.AxesSubplot at 0x1eb44fb1a88>"
      ]
     },
     "execution_count": 23,
     "metadata": {},
     "output_type": "execute_result"
    },
    {
     "data": {
      "image/png": "[encoded data removed]",
      "text/plain": [
       "<Figure size 432x288 with 1 Axes>"
      ]
     },
     "metadata": {
      "needs_background": "light"
     },
     "output_type": "display_data"
    }
   ],
   "source": [
    "import numpy as np\n",
    "\n",
    "np.log1p(train['number_of_rentals']).hist()"
   ]
  },
  {
   "cell_type": "code",
   "execution_count": 24,
   "metadata": {},
   "outputs": [
    {
     "data": {
      "text/plain": [
       "<matplotlib.axes._subplots.AxesSubplot at 0x1eb4507b988>"
      ]
     },
     "execution_count": 24,
     "metadata": {},
     "output_type": "execute_result"
    },
    {
     "data": {
      "image/png": "[encoded data removed]",
      "text/plain": [
       "<Figure size 432x288 with 1 Axes>"
      ]
     },
     "metadata": {
      "needs_background": "light"
     },
     "output_type": "display_data"
    }
   ],
   "source": [
    "train['number_of_rentals'].hist()"
   ]
  },
  {
   "cell_type": "code",
   "execution_count": 25,
   "metadata": {},
   "outputs": [
    {
     "data": {
      "text/plain": [
       "(array([13., 38., 56., 76., 37., 24., 15.,  6.,  5.,  3.]),\n",
       " array([0.753 , 1.2384, 1.7238, 2.2092, 2.6946, 3.18  , 3.6654, 4.1508,\n",
       "        4.6362, 5.1216, 5.607 ]),\n",
       " <a list of 10 Patch objects>)"
      ]
     },
     "execution_count": 25,
     "metadata": {},
     "output_type": "execute_result"
    },
    {
     "data": {
      "image/png": "[encoded data removed]",
      "text/plain": [
       "<Figure size 864x288 with 4 Axes>"
      ]
     },
     "metadata": {
      "needs_background": "light"
     },
     "output_type": "display_data"
    }
   ],
   "source": [
    "# x 값들의 데이터 분포를 살펴보자!\n",
    "\n",
    "fig, (ax1, ax2, ax3, ax4) = plt.subplots(figsize = (12, 4), nrows=1, ncols=4)\n",
    "\n",
    "ax1.set_title('wind_direction')\n",
    "ax1.hist(train['wind_direction'])\n",
    "\n",
    "ax2.set_title('sky_condition')\n",
    "ax2.hist(train['sky_condition'])\n",
    "\n",
    "ax3.set_title('precipitation_form')\n",
    "ax3.hist(train['precipitation_form'])\n",
    "\n",
    "ax4.set_title('wind_speed')\n",
    "ax4.hist(train['wind_speed'])"
   ]
  },
  {
   "cell_type": "code",
   "execution_count": 26,
   "metadata": {},
   "outputs": [
    {
     "data": {
      "text/plain": [
       "(array([104.,  65.,  38.,  21.,  17.,  11.,   8.,   5.,   1.,   3.]),\n",
       " array([ 0.    ,  8.2162, 16.4324, 24.6486, 32.8648, 41.081 , 49.2972,\n",
       "        57.5134, 65.7296, 73.9458, 82.162 ]),\n",
       " <a list of 10 Patch objects>)"
      ]
     },
     "execution_count": 26,
     "metadata": {},
     "output_type": "execute_result"
    },
    {
     "data": {
      "image/png": "[encoded data removed]",
      "text/plain": [
       "<Figure size 864x288 with 4 Axes>"
      ]
     },
     "metadata": {
      "needs_background": "light"
     },
     "output_type": "display_data"
    }
   ],
   "source": [
    "fig, (ax1, ax2, ax3, ax4) = plt.subplots(figsize = (12, 4), nrows=1, ncols=4)\n",
    "\n",
    "ax1.set_title('humidity')\n",
    "ax1.hist(train['humidity'])\n",
    "\n",
    "ax2.set_title('low_temp')\n",
    "ax2.hist(train['low_temp'])\n",
    "\n",
    "ax3.set_title('high_temp')\n",
    "ax3.hist(train['high_temp'])\n",
    "\n",
    "ax4.set_title('Precipitation_Probability')\n",
    "ax4.hist(train['Precipitation_Probability'])"
   ]
  },
  {
   "cell_type": "code",
   "execution_count": 27,
   "metadata": {},
   "outputs": [],
   "source": [
    "test_y = pd.read_csv('./data/y_train.csv', encoding='cp949')\n",
    "test['number_of_rentals'] = test_y['대여건수']"
   ]
  },
  {
   "cell_type": "code",
   "execution_count": 28,
   "metadata": {},
   "outputs": [
    {
     "data": {
      "text/html": [
       "<div>\n",
       "<style scoped>\n",
       "    .dataframe tbody tr th:only-of-type {\n",
       "        vertical-align: middle;\n",
       "    }\n",
       "\n",
       "    .dataframe tbody tr th {\n",
       "        vertical-align: top;\n",
       "    }\n",
       "\n",
       "    .dataframe thead th {\n",
       "        text-align: right;\n",
       "    }\n",
       "</style>\n",
       "<table border=\"1\" class=\"dataframe\">\n",
       "  <thead>\n",
       "    <tr style=\"text-align: right;\">\n",
       "      <th></th>\n",
       "      <th>wind_direction</th>\n",
       "      <th>sky_condition</th>\n",
       "      <th>precipitation_form</th>\n",
       "      <th>wind_speed</th>\n",
       "      <th>humidity</th>\n",
       "      <th>low_temp</th>\n",
       "      <th>high_temp</th>\n",
       "      <th>Precipitation_Probability</th>\n",
       "      <th>year</th>\n",
       "      <th>month</th>\n",
       "      <th>day</th>\n",
       "      <th>daysOfWeek</th>\n",
       "      <th>covid</th>\n",
       "    </tr>\n",
       "  </thead>\n",
       "  <tbody>\n",
       "    <tr>\n",
       "      <th>0</th>\n",
       "      <td>207.500</td>\n",
       "      <td>4.000</td>\n",
       "      <td>0.000</td>\n",
       "      <td>3.050</td>\n",
       "      <td>75.000</td>\n",
       "      <td>12.600</td>\n",
       "      <td>21.000</td>\n",
       "      <td>30.000</td>\n",
       "      <td>2018</td>\n",
       "      <td>4</td>\n",
       "      <td>1</td>\n",
       "      <td>6</td>\n",
       "      <td>0</td>\n",
       "    </tr>\n",
       "    <tr>\n",
       "      <th>1</th>\n",
       "      <td>208.317</td>\n",
       "      <td>2.950</td>\n",
       "      <td>0.000</td>\n",
       "      <td>3.278</td>\n",
       "      <td>69.833</td>\n",
       "      <td>12.812</td>\n",
       "      <td>19.000</td>\n",
       "      <td>19.500</td>\n",
       "      <td>2018</td>\n",
       "      <td>4</td>\n",
       "      <td>2</td>\n",
       "      <td>0</td>\n",
       "      <td>0</td>\n",
       "    </tr>\n",
       "    <tr>\n",
       "      <th>2</th>\n",
       "      <td>213.516</td>\n",
       "      <td>2.911</td>\n",
       "      <td>0.000</td>\n",
       "      <td>2.690</td>\n",
       "      <td>74.879</td>\n",
       "      <td>10.312</td>\n",
       "      <td>15.316</td>\n",
       "      <td>19.113</td>\n",
       "      <td>2018</td>\n",
       "      <td>4</td>\n",
       "      <td>3</td>\n",
       "      <td>1</td>\n",
       "      <td>0</td>\n",
       "    </tr>\n",
       "    <tr>\n",
       "      <th>3</th>\n",
       "      <td>143.836</td>\n",
       "      <td>3.692</td>\n",
       "      <td>0.425</td>\n",
       "      <td>3.138</td>\n",
       "      <td>71.849</td>\n",
       "      <td>8.312</td>\n",
       "      <td>12.368</td>\n",
       "      <td>43.493</td>\n",
       "      <td>2018</td>\n",
       "      <td>4</td>\n",
       "      <td>4</td>\n",
       "      <td>2</td>\n",
       "      <td>0</td>\n",
       "    </tr>\n",
       "    <tr>\n",
       "      <th>4</th>\n",
       "      <td>95.905</td>\n",
       "      <td>4.000</td>\n",
       "      <td>0.723</td>\n",
       "      <td>3.186</td>\n",
       "      <td>73.784</td>\n",
       "      <td>5.875</td>\n",
       "      <td>10.421</td>\n",
       "      <td>63.378</td>\n",
       "      <td>2018</td>\n",
       "      <td>4</td>\n",
       "      <td>5</td>\n",
       "      <td>3</td>\n",
       "      <td>0</td>\n",
       "    </tr>\n",
       "    <tr>\n",
       "      <th>...</th>\n",
       "      <td>...</td>\n",
       "      <td>...</td>\n",
       "      <td>...</td>\n",
       "      <td>...</td>\n",
       "      <td>...</td>\n",
       "      <td>...</td>\n",
       "      <td>...</td>\n",
       "      <td>...</td>\n",
       "      <td>...</td>\n",
       "      <td>...</td>\n",
       "      <td>...</td>\n",
       "      <td>...</td>\n",
       "      <td>...</td>\n",
       "    </tr>\n",
       "    <tr>\n",
       "      <th>268</th>\n",
       "      <td>228.662</td>\n",
       "      <td>3.980</td>\n",
       "      <td>0.223</td>\n",
       "      <td>2.271</td>\n",
       "      <td>78.378</td>\n",
       "      <td>20.500</td>\n",
       "      <td>27.526</td>\n",
       "      <td>36.486</td>\n",
       "      <td>2020</td>\n",
       "      <td>6</td>\n",
       "      <td>26</td>\n",
       "      <td>4</td>\n",
       "      <td>1</td>\n",
       "    </tr>\n",
       "    <tr>\n",
       "      <th>269</th>\n",
       "      <td>207.770</td>\n",
       "      <td>2.865</td>\n",
       "      <td>0.081</td>\n",
       "      <td>1.794</td>\n",
       "      <td>78.412</td>\n",
       "      <td>20.812</td>\n",
       "      <td>28.842</td>\n",
       "      <td>21.081</td>\n",
       "      <td>2020</td>\n",
       "      <td>6</td>\n",
       "      <td>27</td>\n",
       "      <td>5</td>\n",
       "      <td>1</td>\n",
       "    </tr>\n",
       "    <tr>\n",
       "      <th>270</th>\n",
       "      <td>282.568</td>\n",
       "      <td>1.730</td>\n",
       "      <td>0.000</td>\n",
       "      <td>1.820</td>\n",
       "      <td>72.736</td>\n",
       "      <td>21.000</td>\n",
       "      <td>29.053</td>\n",
       "      <td>7.297</td>\n",
       "      <td>2020</td>\n",
       "      <td>6</td>\n",
       "      <td>28</td>\n",
       "      <td>6</td>\n",
       "      <td>1</td>\n",
       "    </tr>\n",
       "    <tr>\n",
       "      <th>271</th>\n",
       "      <td>137.027</td>\n",
       "      <td>2.257</td>\n",
       "      <td>0.088</td>\n",
       "      <td>2.043</td>\n",
       "      <td>70.473</td>\n",
       "      <td>19.625</td>\n",
       "      <td>26.000</td>\n",
       "      <td>15.541</td>\n",
       "      <td>2020</td>\n",
       "      <td>6</td>\n",
       "      <td>29</td>\n",
       "      <td>0</td>\n",
       "      <td>1</td>\n",
       "    </tr>\n",
       "    <tr>\n",
       "      <th>272</th>\n",
       "      <td>120.797</td>\n",
       "      <td>3.622</td>\n",
       "      <td>0.432</td>\n",
       "      <td>5.574</td>\n",
       "      <td>77.061</td>\n",
       "      <td>19.125</td>\n",
       "      <td>26.053</td>\n",
       "      <td>41.284</td>\n",
       "      <td>2020</td>\n",
       "      <td>6</td>\n",
       "      <td>30</td>\n",
       "      <td>1</td>\n",
       "      <td>1</td>\n",
       "    </tr>\n",
       "  </tbody>\n",
       "</table>\n",
       "<p>273 rows × 13 columns</p>\n",
       "</div>"
      ],
      "text/plain": [
       "     wind_direction  sky_condition  precipitation_form  wind_speed  humidity  \\\n",
       "0           207.500          4.000               0.000       3.050    75.000   \n",
       "1           208.317          2.950               0.000       3.278    69.833   \n",
       "2           213.516          2.911               0.000       2.690    74.879   \n",
       "3           143.836          3.692               0.425       3.138    71.849   \n",
       "4            95.905          4.000               0.723       3.186    73.784   \n",
       "..              ...            ...                 ...         ...       ...   \n",
       "268         228.662          3.980               0.223       2.271    78.378   \n",
       "269         207.770          2.865               0.081       1.794    78.412   \n",
       "270         282.568          1.730               0.000       1.820    72.736   \n",
       "271         137.027          2.257               0.088       2.043    70.473   \n",
       "272         120.797          3.622               0.432       5.574    77.061   \n",
       "\n",
       "     low_temp  high_temp  Precipitation_Probability  year  month  day  \\\n",
       "0      12.600     21.000                     30.000  2018      4    1   \n",
       "1      12.812     19.000                     19.500  2018      4    2   \n",
       "2      10.312     15.316                     19.113  2018      4    3   \n",
       "3       8.312     12.368                     43.493  2018      4    4   \n",
       "4       5.875     10.421                     63.378  2018      4    5   \n",
       "..        ...        ...                        ...   ...    ...  ...   \n",
       "268    20.500     27.526                     36.486  2020      6   26   \n",
       "269    20.812     28.842                     21.081  2020      6   27   \n",
       "270    21.000     29.053                      7.297  2020      6   28   \n",
       "271    19.625     26.000                     15.541  2020      6   29   \n",
       "272    19.125     26.053                     41.284  2020      6   30   \n",
       "\n",
       "     daysOfWeek  covid  \n",
       "0             6      0  \n",
       "1             0      0  \n",
       "2             1      0  \n",
       "3             2      0  \n",
       "4             3      0  \n",
       "..          ...    ...  \n",
       "268           4      1  \n",
       "269           5      1  \n",
       "270           6      1  \n",
       "271           0      1  \n",
       "272           1      1  \n",
       "\n",
       "[273 rows x 13 columns]"
      ]
     },
     "execution_count": 28,
     "metadata": {},
     "output_type": "execute_result"
    }
   ],
   "source": [
    "from sklearn.model_selection import train_test_split\n",
    "\n",
    "X_train = train.drop('number_of_rentals', axis=1)\n",
    "y_train = train['number_of_rentals']\n",
    "X_test = test.drop('number_of_rentals', axis=1)\n",
    "y_test = test['number_of_rentals'].astype('int64')\n",
    "\n",
    "X_train"
   ]
  },
  {
   "cell_type": "code",
   "execution_count": 29,
   "metadata": {},
   "outputs": [],
   "source": [
    "from sklearn.linear_model import LinearRegression , Ridge , Lasso\n",
    "\n",
    "# model 별로 평가 수행\n",
    "lr_reg = LinearRegression()\n",
    "ridge_reg = Ridge(alpha=10)\n",
    "lasso_reg = Lasso(alpha=0.01)"
   ]
  },
  {
   "cell_type": "code",
   "execution_count": 30,
   "metadata": {},
   "outputs": [],
   "source": [
    "lr_reg.fit(X_train, y_train)\n",
    "pred = lr_reg.predict(X_test)"
   ]
  },
  {
   "cell_type": "code",
   "execution_count": 31,
   "metadata": {},
   "outputs": [],
   "source": [
    "# 평가함수\n",
    "\n",
    "def NMAE(true, pred):\n",
    "    score = np.mean(np.abs(true-pred) / true)\n",
    "    return score"
   ]
  },
  {
   "cell_type": "code",
   "execution_count": 32,
   "metadata": {},
   "outputs": [
    {
     "name": "stdout",
     "output_type": "stream",
     "text": [
      "0.6291312005898251\n"
     ]
    }
   ],
   "source": [
    "print(NMAE(y_test, pred))"
   ]
  },
  {
   "cell_type": "code",
   "execution_count": 33,
   "metadata": {},
   "outputs": [
    {
     "name": "stdout",
     "output_type": "stream",
     "text": [
      "릿지 :  0.5877725277277581\n",
      "라쏘 :  0.6291305046771916\n"
     ]
    },
    {
     "name": "stderr",
     "output_type": "stream",
     "text": [
      "C:\\Users\\korea_1\\anaconda3\\lib\\site-packages\\sklearn\\linear_model\\_coordinate_descent.py:531: ConvergenceWarning: Objective did not converge. You might want to increase the number of iterations. Duality gap: 12130506013.590939, tolerance: 20809417.990786813\n",
      "  positive)\n"
     ]
    }
   ],
   "source": [
    "ridge_reg.fit(X_train, y_train)\n",
    "lasso_reg.fit(X_train, y_train)\n",
    "\n",
    "pred_ridge = ridge_reg.predict(X_test)\n",
    "pred_lasso = lasso_reg.predict(X_test)\n",
    "\n",
    "print('릿지 : ', NMAE(y_test, pred_ridge))\n",
    "print('라쏘 : ', NMAE(y_test, pred_lasso))"
   ]
  },
  {
   "cell_type": "code",
   "execution_count": 34,
   "metadata": {},
   "outputs": [
    {
     "data": {
      "text/plain": [
       "<matplotlib.axes._subplots.AxesSubplot at 0x1eb4536bc88>"
      ]
     },
     "execution_count": 34,
     "metadata": {},
     "output_type": "execute_result"
    },
    {
     "data": {
      "image/png": "[encoded data removed]",
      "text/plain": [
       "<Figure size 432x288 with 1 Axes>"
      ]
     },
     "metadata": {
      "needs_background": "light"
     },
     "output_type": "display_data"
    }
   ],
   "source": [
    "coef = pd.Series(lr_reg.coef_, index=X_train.columns)\n",
    "coef_sort = coef.sort_values(ascending=False)\n",
    "sns.barplot(x=coef_sort.values, y=coef_sort.index)"
   ]
  },
  {
   "cell_type": "code",
   "execution_count": 35,
   "metadata": {},
   "outputs": [
    {
     "data": {
      "text/plain": [
       "<matplotlib.axes._subplots.AxesSubplot at 0x1eb44e0ccc8>"
      ]
     },
     "execution_count": 35,
     "metadata": {},
     "output_type": "execute_result"
    },
    {
     "data": {
      "image/png": "[encoded data removed]",
      "text/plain": [
       "<Figure size 432x288 with 1 Axes>"
      ]
     },
     "metadata": {
      "needs_background": "light"
     },
     "output_type": "display_data"
    }
   ],
   "source": [
    "coef = pd.Series(ridge_reg.coef_, index=X_train.columns)\n",
    "coef_sort = coef.sort_values(ascending=False)\n",
    "sns.barplot(x=coef_sort.values, y=coef_sort.index)"
   ]
  },
  {
   "cell_type": "code",
   "execution_count": 36,
   "metadata": {},
   "outputs": [
    {
     "data": {
      "text/plain": [
       "<matplotlib.axes._subplots.AxesSubplot at 0x1eb464711c8>"
      ]
     },
     "execution_count": 36,
     "metadata": {},
     "output_type": "execute_result"
    },
    {
     "data": {
      "image/png": "[encoded data removed]",
      "text/plain": [
       "<Figure size 432x288 with 1 Axes>"
      ]
     },
     "metadata": {
      "needs_background": "light"
     },
     "output_type": "display_data"
    }
   ],
   "source": [
    "coef = pd.Series(lasso_reg.coef_, index=X_train.columns)\n",
    "coef_sort = coef.sort_values(ascending=False)\n",
    "sns.barplot(x=coef_sort.values, y=coef_sort.index)"
   ]
  },
  {
   "cell_type": "code",
   "execution_count": 37,
   "metadata": {},
   "outputs": [],
   "source": [
    "# year를 원핫 인코딩을 하려니...\n",
    "\n",
    "X_train['year_2018'] = 0\n",
    "X_test['year_2018'] = 0\n",
    "\n",
    "X_train['year_2019'] = 0\n",
    "X_test['year_2019'] = 0\n",
    "\n",
    "X_train['year_2020'] = 0\n",
    "X_test['year_2020'] = 0\n",
    "\n",
    "X_train['year_2021'] = 0\n",
    "X_test['year_2021'] = 0\n",
    "\n",
    "X_train.loc[X_train['year']==2018, \"year_2018\"] = 1\n",
    "X_train.loc[X_train['year']==2019, \"year_2019\"] = 1\n",
    "X_train.loc[X_train['year']==2020, \"year_2020\"] = 1\n",
    "X_train.loc[X_train['year']==2021, \"year_2021\"] = 1\n",
    "\n",
    "X_test.loc[X_test['year']==2018, \"year_2018\"] = 1\n",
    "X_test.loc[X_test['year']==2019, \"year_2019\"] = 1\n",
    "X_test.loc[X_test['year']==2020, \"year_2020\"] = 1\n",
    "X_test.loc[X_test['year']==2021, \"year_2021\"] = 1\n",
    "\n",
    "X_train = X_train.drop('year', axis=1)\n",
    "X_test = X_test.drop('year', axis=1)"
   ]
  },
  {
   "cell_type": "code",
   "execution_count": 38,
   "metadata": {},
   "outputs": [
    {
     "name": "stdout",
     "output_type": "stream",
     "text": [
      "0.556033900994505\n",
      "릿지 :  0.5520812425330299\n",
      "라쏘 :  0.5435646236070221\n"
     ]
    },
    {
     "name": "stderr",
     "output_type": "stream",
     "text": [
      "C:\\Users\\korea_1\\anaconda3\\lib\\site-packages\\sklearn\\linear_model\\_coordinate_descent.py:531: ConvergenceWarning: Objective did not converge. You might want to increase the number of iterations. Duality gap: 12189939960.359102, tolerance: 20809417.990786813\n",
      "  positive)\n"
     ]
    }
   ],
   "source": [
    "# model 별로 평가 수행\n",
    "lr_reg = LinearRegression()\n",
    "ridge_reg = Ridge(alpha=10)\n",
    "lasso_reg = Lasso(alpha=0.01)\n",
    "\n",
    "lr_reg.fit(X_train, y_train)\n",
    "pred = lr_reg.predict(X_test)\n",
    "\n",
    "ridge_reg.fit(X_train, y_train)\n",
    "lasso_reg.fit(X_train, y_train)\n",
    "\n",
    "pred_ridge = ridge_reg.predict(X_test)\n",
    "pred_lasso = lasso_reg.predict(X_test)\n",
    "\n",
    "print(NMAE(y_test, pred))\n",
    "print('릿지 : ', NMAE(y_test, pred_ridge))\n",
    "print('라쏘 : ', NMAE(y_test, pred_lasso))"
   ]
  },
  {
   "cell_type": "code",
   "execution_count": 39,
   "metadata": {},
   "outputs": [
    {
     "data": {
      "text/plain": [
       "<matplotlib.axes._subplots.AxesSubplot at 0x1eb46473f08>"
      ]
     },
     "execution_count": 39,
     "metadata": {},
     "output_type": "execute_result"
    },
    {
     "data": {
      "image/png": "[encoded data removed]",
      "text/plain": [
       "<Figure size 432x288 with 1 Axes>"
      ]
     },
     "metadata": {
      "needs_background": "light"
     },
     "output_type": "display_data"
    }
   ],
   "source": [
    "coef = pd.Series(lr_reg.coef_, index=X_train.columns)\n",
    "coef_sort = coef.sort_values(ascending=False)\n",
    "sns.barplot(x=coef_sort.values, y=coef_sort.index)"
   ]
  },
  {
   "cell_type": "code",
   "execution_count": 40,
   "metadata": {},
   "outputs": [
    {
     "data": {
      "text/plain": [
       "<matplotlib.axes._subplots.AxesSubplot at 0x1eb465ec588>"
      ]
     },
     "execution_count": 40,
     "metadata": {},
     "output_type": "execute_result"
    },
    {
     "data": {
      "image/png": "[encoded data removed]",
      "text/plain": [
       "<Figure size 432x288 with 1 Axes>"
      ]
     },
     "metadata": {
      "needs_background": "light"
     },
     "output_type": "display_data"
    }
   ],
   "source": [
    "coef = pd.Series(ridge_reg.coef_, index=X_train.columns)\n",
    "coef_sort = coef.sort_values(ascending=False)\n",
    "sns.barplot(x=coef_sort.values, y=coef_sort.index)"
   ]
  },
  {
   "cell_type": "code",
   "execution_count": 41,
   "metadata": {},
   "outputs": [
    {
     "data": {
      "text/plain": [
       "<matplotlib.axes._subplots.AxesSubplot at 0x1eb47692a08>"
      ]
     },
     "execution_count": 41,
     "metadata": {},
     "output_type": "execute_result"
    },
    {
     "data": {
      "image/png": "[encoded data removed]",
      "text/plain": [
       "<Figure size 432x288 with 1 Axes>"
      ]
     },
     "metadata": {
      "needs_background": "light"
     },
     "output_type": "display_data"
    }
   ],
   "source": [
    "coef = pd.Series(lasso_reg.coef_, index=X_train.columns)\n",
    "coef_sort = coef.sort_values(ascending=False)\n",
    "sns.barplot(x=coef_sort.values, y=coef_sort.index)"
   ]
  },
  {
   "cell_type": "code",
   "execution_count": 42,
   "metadata": {},
   "outputs": [
    {
     "name": "stdout",
     "output_type": "stream",
     "text": [
      "0.5162917378697757\n",
      "릿지 :  0.5733341386239181\n",
      "라쏘 :  0.47114261614434255\n"
     ]
    }
   ],
   "source": [
    "X_train = np.log1p(X_train)\n",
    "y_train = np.log1p(y_train)\n",
    "X_test = np.log1p(X_test)\n",
    "y_test = np.log1p(y_test)\n",
    "\n",
    "# model 별로 평가 수행\n",
    "lr_reg = LinearRegression()\n",
    "ridge_reg = Ridge(alpha=10)\n",
    "lasso_reg = Lasso(alpha=0.01)\n",
    "\n",
    "lr_reg.fit(X_train, y_train)\n",
    "pred = np.expm1(lr_reg.predict(X_test))\n",
    "\n",
    "ridge_reg.fit(X_train, y_train)\n",
    "lasso_reg.fit(X_train, y_train)\n",
    "\n",
    "pred_ridge = np.expm1(ridge_reg.predict(X_test))\n",
    "pred_lasso = np.expm1(lasso_reg.predict(X_test))\n",
    "\n",
    "print(NMAE(np.expm1(y_test), pred))\n",
    "print('릿지 : ', NMAE(np.expm1(y_test), pred_ridge))\n",
    "print('라쏘 : ', NMAE(np.expm1(y_test), pred_lasso))"
   ]
  },
  {
   "cell_type": "code",
   "execution_count": 43,
   "metadata": {},
   "outputs": [
    {
     "data": {
      "text/plain": [
       "<matplotlib.axes._subplots.AxesSubplot at 0x1eb4776e2c8>"
      ]
     },
     "execution_count": 43,
     "metadata": {},
     "output_type": "execute_result"
    },
    {
     "data": {
      "image/png": "[encoded data removed]",
      "text/plain": [
       "<Figure size 432x288 with 1 Axes>"
      ]
     },
     "metadata": {
      "needs_background": "light"
     },
     "output_type": "display_data"
    }
   ],
   "source": [
    "coef = pd.Series(lr_reg.coef_, index=X_train.columns)\n",
    "coef_sort = coef.sort_values(ascending=False)\n",
    "sns.barplot(x=coef_sort.values, y=coef_sort.index)"
   ]
  },
  {
   "cell_type": "code",
   "execution_count": 44,
   "metadata": {},
   "outputs": [
    {
     "data": {
      "text/plain": [
       "<matplotlib.axes._subplots.AxesSubplot at 0x1eb47855488>"
      ]
     },
     "execution_count": 44,
     "metadata": {},
     "output_type": "execute_result"
    },
    {
     "data": {
      "image/png": "[encoded data removed]",
      "text/plain": [
       "<Figure size 432x288 with 1 Axes>"
      ]
     },
     "metadata": {
      "needs_background": "light"
     },
     "output_type": "display_data"
    }
   ],
   "source": [
    "coef = pd.Series(ridge_reg.coef_, index=X_train.columns)\n",
    "coef_sort = coef.sort_values(ascending=False)\n",
    "sns.barplot(x=coef_sort.values, y=coef_sort.index)"
   ]
  },
  {
   "cell_type": "code",
   "execution_count": 45,
   "metadata": {},
   "outputs": [
    {
     "data": {
      "text/plain": [
       "<matplotlib.axes._subplots.AxesSubplot at 0x1eb4792ee88>"
      ]
     },
     "execution_count": 45,
     "metadata": {},
     "output_type": "execute_result"
    },
    {
     "data": {
      "image/png": "[encoded data removed]",
      "text/plain": [
       "<Figure size 432x288 with 1 Axes>"
      ]
     },
     "metadata": {
      "needs_background": "light"
     },
     "output_type": "display_data"
    }
   ],
   "source": [
    "coef = pd.Series(lasso_reg.coef_, index=X_train.columns)\n",
    "coef_sort = coef.sort_values(ascending=False)\n",
    "sns.barplot(x=coef_sort.values, y=coef_sort.index)"
   ]
  },
  {
   "cell_type": "code",
   "execution_count": 46,
   "metadata": {},
   "outputs": [
    {
     "name": "stdout",
     "output_type": "stream",
     "text": [
      "Ridge 5 CV 시 최적 평균 RMSE 값: 0.3263, 최적 alpha:{'alpha': 0.001}\n",
      "Lasso 5 CV 시 최적 평균 RMSE 값: 0.3254, 최적 alpha:{'alpha': 0.0005}\n"
     ]
    }
   ],
   "source": [
    "from sklearn.model_selection import GridSearchCV\n",
    "\n",
    "def print_best_params(model, params):\n",
    "    grid_model = GridSearchCV(model, param_grid=params, \n",
    "                              scoring='neg_mean_squared_error', cv=5)\n",
    "    grid_model.fit(X_train, y_train)\n",
    "    rmse = np.sqrt(-1* grid_model.best_score_)\n",
    "    \n",
    "    print('{0} 5 CV 시 최적 평균 RMSE 값: {1}, 최적 alpha:{2}'.format(model.__class__.__name__,\n",
    "                                        np.round(rmse, 4), grid_model.best_params_))\n",
    "    return grid_model.best_estimator_\n",
    "\n",
    "ridge_params = { 'alpha':[0.001, 0.05, 0.1, 1, 5, 8, 10, 12, 15, 20] }\n",
    "lasso_params = { 'alpha':[0.0001, 0.0005, 0.001, 0.005, 0.008, 0.05, 0.03, 0.1, 0.5, 1,5, 10] }\n",
    "best_ridge = print_best_params(ridge_reg, ridge_params)\n",
    "best_lasso = print_best_params(lasso_reg, lasso_params)"
   ]
  },
  {
   "cell_type": "code",
   "execution_count": 47,
   "metadata": {},
   "outputs": [
    {
     "name": "stdout",
     "output_type": "stream",
     "text": [
      "0.5162917378697757\n",
      "릿지 :  0.516312350077453\n",
      "라쏘 :  0.42291773374935415\n"
     ]
    }
   ],
   "source": [
    "# model 별로 평가 수행\n",
    "lr_reg = LinearRegression()\n",
    "ridge_reg = Ridge(alpha=0.001)\n",
    "lasso_reg = Lasso(alpha=0.0005)\n",
    "\n",
    "\n",
    "lr_reg.fit(X_train, y_train)\n",
    "pred = np.expm1(lr_reg.predict(X_test))\n",
    "\n",
    "ridge_reg.fit(X_train, y_train)\n",
    "lasso_reg.fit(X_train, y_train)\n",
    "\n",
    "pred_ridge = np.expm1(ridge_reg.predict(X_test))\n",
    "pred_lasso = np.expm1(lasso_reg.predict(X_test))\n",
    "\n",
    "print(NMAE(np.expm1(y_test), pred))\n",
    "print('릿지 : ', NMAE(np.expm1(y_test), pred_ridge))\n",
    "print('라쏘 : ', NMAE(np.expm1(y_test), pred_lasso))"
   ]
  },
  {
   "cell_type": "code",
   "execution_count": 48,
   "metadata": {},
   "outputs": [
    {
     "data": {
      "text/plain": [
       "<matplotlib.axes._subplots.AxesSubplot at 0x1eb47a1f788>"
      ]
     },
     "execution_count": 48,
     "metadata": {},
     "output_type": "execute_result"
    },
    {
     "data": {
      "image/png": "[encoded data removed]",
      "text/plain": [
       "<Figure size 432x288 with 1 Axes>"
      ]
     },
     "metadata": {
      "needs_background": "light"
     },
     "output_type": "display_data"
    }
   ],
   "source": [
    "coef = pd.Series(lr_reg.coef_, index=X_train.columns)\n",
    "coef_sort = coef.sort_values(ascending=False)\n",
    "sns.barplot(x=coef_sort.values, y=coef_sort.index)"
   ]
  },
  {
   "cell_type": "code",
   "execution_count": 49,
   "metadata": {},
   "outputs": [
    {
     "data": {
      "text/plain": [
       "<matplotlib.axes._subplots.AxesSubplot at 0x1eb47afbfc8>"
      ]
     },
     "execution_count": 49,
     "metadata": {},
     "output_type": "execute_result"
    },
    {
     "data": {
      "image/png": "[encoded data removed]",
      "text/plain": [
       "<Figure size 432x288 with 1 Axes>"
      ]
     },
     "metadata": {
      "needs_background": "light"
     },
     "output_type": "display_data"
    }
   ],
   "source": [
    "coef = pd.Series(ridge_reg.coef_, index=X_train.columns)\n",
    "coef_sort = coef.sort_values(ascending=False)\n",
    "sns.barplot(x=coef_sort.values, y=coef_sort.index)"
   ]
  },
  {
   "cell_type": "code",
   "execution_count": 50,
   "metadata": {},
   "outputs": [
    {
     "data": {
      "text/plain": [
       "<matplotlib.axes._subplots.AxesSubplot at 0x1eb47bd09c8>"
      ]
     },
     "execution_count": 50,
     "metadata": {},
     "output_type": "execute_result"
    },
    {
     "data": {
      "image/png": "[encoded data removed]",
      "text/plain": [
       "<Figure size 432x288 with 1 Axes>"
      ]
     },
     "metadata": {
      "needs_background": "light"
     },
     "output_type": "display_data"
    }
   ],
   "source": [
    "coef = pd.Series(lasso_reg.coef_, index=X_train.columns)\n",
    "coef_sort = coef.sort_values(ascending=False)\n",
    "sns.barplot(x=coef_sort.values, y=coef_sort.index)"
   ]
  },
  {
   "cell_type": "code",
   "execution_count": 51,
   "metadata": {},
   "outputs": [
    {
     "data": {
      "text/plain": [
       "<matplotlib.collections.PathCollection at 0x1eb47dd1a08>"
      ]
     },
     "execution_count": 51,
     "metadata": {},
     "output_type": "execute_result"
    },
    {
     "data": {
      "image/png": "[encoded data removed]",
      "text/plain": [
       "<Figure size 432x288 with 1 Axes>"
      ]
     },
     "metadata": {
      "needs_background": "light"
     },
     "output_type": "display_data"
    }
   ],
   "source": [
    "plt.scatter(x=X_train['high_temp'], y=y_train)"
   ]
  },
  {
   "cell_type": "code",
   "execution_count": 52,
   "metadata": {},
   "outputs": [
    {
     "data": {
      "text/plain": [
       "<matplotlib.collections.PathCollection at 0x1eb4767b708>"
      ]
     },
     "execution_count": 52,
     "metadata": {},
     "output_type": "execute_result"
    },
    {
     "data": {
      "image/png": "[encoded data removed]",
      "text/plain": [
       "<Figure size 432x288 with 1 Axes>"
      ]
     },
     "metadata": {
      "needs_background": "light"
     },
     "output_type": "display_data"
    }
   ],
   "source": [
    "plt.scatter(x=X_train['precipitation_form'], y=y_train)"
   ]
  },
  {
   "cell_type": "code",
   "execution_count": 53,
   "metadata": {},
   "outputs": [
    {
     "data": {
      "text/plain": [
       "<matplotlib.collections.PathCollection at 0x1eb4792bb08>"
      ]
     },
     "execution_count": 53,
     "metadata": {},
     "output_type": "execute_result"
    },
    {
     "data": {
      "image/png": "[encoded data removed]",
      "text/plain": [
       "<Figure size 432x288 with 1 Axes>"
      ]
     },
     "metadata": {
      "needs_background": "light"
     },
     "output_type": "display_data"
    }
   ],
   "source": [
    "plt.scatter(x=X_train['month'], y=y_train)"
   ]
  },
  {
   "cell_type": "code",
   "execution_count": 54,
   "metadata": {},
   "outputs": [],
   "source": [
    "X_train = X_train.drop('year_2018', axis=1)\n",
    "X_test = X_test.drop('year_2018', axis=1)\n",
    "\n",
    "X_train = X_train.drop('year_2019', axis=1)\n",
    "X_test = X_test.drop('year_2019', axis=1)\n",
    "\n",
    "X_train = X_train.drop('year_2020', axis=1)\n",
    "X_test = X_test.drop('year_2020', axis=1)\n",
    "\n",
    "X_train = X_train.drop('year_2021', axis=1)\n",
    "X_test = X_test.drop('year_2021', axis=1)"
   ]
  },
  {
   "cell_type": "code",
   "execution_count": 55,
   "metadata": {},
   "outputs": [
    {
     "name": "stdout",
     "output_type": "stream",
     "text": [
      "Ridge 5 CV 시 최적 평균 RMSE 값: 0.5377, 최적 alpha:{'alpha': 1}\n",
      "Lasso 5 CV 시 최적 평균 RMSE 값: 0.5407, 최적 alpha:{'alpha': 0.0001}\n"
     ]
    }
   ],
   "source": [
    "from sklearn.model_selection import GridSearchCV\n",
    "\n",
    "def print_best_params(model, params):\n",
    "    grid_model = GridSearchCV(model, param_grid=params, \n",
    "                              scoring='neg_mean_squared_error', cv=5)\n",
    "    grid_model.fit(X_train, y_train)\n",
    "    rmse = np.sqrt(-1* grid_model.best_score_)\n",
    "    \n",
    "    print('{0} 5 CV 시 최적 평균 RMSE 값: {1}, 최적 alpha:{2}'.format(model.__class__.__name__,\n",
    "                                        np.round(rmse, 4), grid_model.best_params_))\n",
    "    return grid_model.best_estimator_\n",
    "\n",
    "ridge_params = { 'alpha':[0.001, 0.05, 0.1, 1, 5, 8, 10, 12, 15, 20] }\n",
    "lasso_params = { 'alpha':[0.0001, 0.0005, 0.001, 0.005, 0.008, 0.05, 0.03, 0.1, 0.5, 1,5, 10] }\n",
    "best_ridge = print_best_params(ridge_reg, ridge_params)\n",
    "best_lasso = print_best_params(lasso_reg, lasso_params)"
   ]
  },
  {
   "cell_type": "code",
   "execution_count": 56,
   "metadata": {},
   "outputs": [
    {
     "name": "stdout",
     "output_type": "stream",
     "text": [
      "0.4165355587978085\n",
      "릿지 :  0.416558006223083\n",
      "라쏘 :  0.4188497232218845\n"
     ]
    }
   ],
   "source": [
    "# model 별로 평가 수행\n",
    "lr_reg = LinearRegression()\n",
    "ridge_reg = Ridge(alpha=0.001)\n",
    "lasso_reg = Lasso(alpha=0.0005)\n",
    "\n",
    "\n",
    "lr_reg.fit(X_train, y_train)\n",
    "pred = np.expm1(lr_reg.predict(X_test))\n",
    "\n",
    "ridge_reg.fit(X_train, y_train)\n",
    "lasso_reg.fit(X_train, y_train)\n",
    "\n",
    "pred_ridge = np.expm1(ridge_reg.predict(X_test))\n",
    "pred_lasso = np.expm1(lasso_reg.predict(X_test))\n",
    "\n",
    "print(NMAE(np.expm1(y_test), pred))\n",
    "print('릿지 : ', NMAE(np.expm1(y_test), pred_ridge))\n",
    "print('라쏘 : ', NMAE(np.expm1(y_test), pred_lasso))"
   ]
  },
  {
   "cell_type": "code",
   "execution_count": 57,
   "metadata": {},
   "outputs": [
    {
     "data": {
      "text/plain": [
       "<matplotlib.axes._subplots.AxesSubplot at 0x1eb47e96808>"
      ]
     },
     "execution_count": 57,
     "metadata": {},
     "output_type": "execute_result"
    },
    {
     "data": {
      "image/png": "[encoded data removed]",
      "text/plain": [
       "<Figure size 432x288 with 1 Axes>"
      ]
     },
     "metadata": {
      "needs_background": "light"
     },
     "output_type": "display_data"
    }
   ],
   "source": [
    "coef = pd.Series(lr_reg.coef_, index=X_train.columns)\n",
    "coef_sort = coef.sort_values(ascending=False)\n",
    "sns.barplot(x=coef_sort.values, y=coef_sort.index)"
   ]
  },
  {
   "cell_type": "code",
   "execution_count": 58,
   "metadata": {},
   "outputs": [
    {
     "data": {
      "text/plain": [
       "<matplotlib.axes._subplots.AxesSubplot at 0x1eb47f72048>"
      ]
     },
     "execution_count": 58,
     "metadata": {},
     "output_type": "execute_result"
    },
    {
     "data": {
      "image/png": "[encoded data removed]",
      "text/plain": [
       "<Figure size 432x288 with 1 Axes>"
      ]
     },
     "metadata": {
      "needs_background": "light"
     },
     "output_type": "display_data"
    }
   ],
   "source": [
    "coef = pd.Series(ridge_reg.coef_, index=X_train.columns)\n",
    "coef_sort = coef.sort_values(ascending=False)\n",
    "sns.barplot(x=coef_sort.values, y=coef_sort.index)"
   ]
  },
  {
   "cell_type": "code",
   "execution_count": 59,
   "metadata": {},
   "outputs": [
    {
     "data": {
      "text/plain": [
       "<matplotlib.axes._subplots.AxesSubplot at 0x1eb47f57ec8>"
      ]
     },
     "execution_count": 59,
     "metadata": {},
     "output_type": "execute_result"
    },
    {
     "data": {
      "image/png": "[encoded data removed]",
      "text/plain": [
       "<Figure size 432x288 with 1 Axes>"
      ]
     },
     "metadata": {
      "needs_background": "light"
     },
     "output_type": "display_data"
    }
   ],
   "source": [
    "coef = pd.Series(lasso_reg.coef_, index=X_train.columns)\n",
    "coef_sort = coef.sort_values(ascending=False)\n",
    "sns.barplot(x=coef_sort.values, y=coef_sort.index)"
   ]
  },
  {
   "cell_type": "code",
   "execution_count": 60,
   "metadata": {},
   "outputs": [
    {
     "name": "stdout",
     "output_type": "stream",
     "text": [
      "[18:56:40] WARNING: src/objective/regression_obj.cu:152: reg:linear is now deprecated in favor of reg:squarederror.\n",
      "XGB :  0.42835723387782315\n",
      "LGBM :  0.35390912450253287\n"
     ]
    }
   ],
   "source": [
    "from xgboost import XGBRegressor\n",
    "from lightgbm import LGBMRegressor\n",
    "\n",
    "xgb_reg = XGBRegressor(n_estimators=1000, learning_rate=0.05, \n",
    "                       colsample_bytree=0.5, subsample=0.8)\n",
    "lgbm_reg = LGBMRegressor(n_estimators=1000, learning_rate=0.05, num_leaves=4, \n",
    "                         subsample=0.6, colsample_bytree=0.4, reg_lambda=10, n_jobs=-1)\n",
    "\n",
    "xgb_reg.fit(X_train, y_train)\n",
    "lgbm_reg.fit(X_train, y_train)\n",
    "\n",
    "pred_xgb = np.expm1(xgb_reg.predict(X_test))\n",
    "pred_lgbm = np.expm1(lgbm_reg.predict(X_test))\n",
    "\n",
    "print('XGB : ', NMAE(np.expm1(y_test), pred_xgb))\n",
    "print(\"LGBM : \", NMAE(np.expm1(y_test), pred_lgbm))"
   ]
  },
  {
   "cell_type": "code",
   "execution_count": 61,
   "metadata": {},
   "outputs": [
    {
     "name": "stdout",
     "output_type": "stream",
     "text": [
      "[18:56:41] WARNING: src/objective/regression_obj.cu:152: reg:linear is now deprecated in favor of reg:squarederror.\n",
      "XGB :  0.39989375576951297\n"
     ]
    }
   ],
   "source": [
    "xgb_reg = XGBRegressor(n_estimators=2000, learning_rate=0.01, \n",
    "                       colsample_bytree=0.5, subsample=0.8)\n",
    "\n",
    "xgb_reg.fit(X_train, y_train)\n",
    "pred_xgb = np.expm1(xgb_reg.predict(X_test))\n",
    "print('XGB : ', NMAE(np.expm1(y_test), pred_xgb))"
   ]
  },
  {
   "cell_type": "code",
   "execution_count": 65,
   "metadata": {},
   "outputs": [
    {
     "name": "stdout",
     "output_type": "stream",
     "text": [
      "LGBM :  0.34325752512245955\n"
     ]
    }
   ],
   "source": [
    "lgbm_reg = LGBMRegressor(n_estimators=20000, learning_rate=0.15, num_leaves=4, \n",
    "                         subsample=0.6, colsample_bytree=0.4, reg_lambda=10, n_jobs=-1)\n",
    "\n",
    "lgbm_reg.fit(X_train, y_train)\n",
    "pred_lgbm = np.expm1(lgbm_reg.predict(X_test))\n",
    "print(\"LGBM : \", NMAE(np.expm1(y_test), pred_lgbm))"
   ]
  },
  {
   "cell_type": "code",
   "execution_count": null,
   "metadata": {},
   "outputs": [],
   "source": []
  }
 ],
 "metadata": {
  "kernelspec": {
   "display_name": "Python 3",
   "language": "python",
   "name": "python3"
  },
  "language_info": {
   "codemirror_mode": {
    "name": "ipython",
    "version": 3
   },
   "file_extension": ".py",
   "mimetype": "text/x-python",
   "name": "python",
   "nbconvert_exporter": "python",
   "pygments_lexer": "ipython3",
   "version": "3.7.7"
  }
 },
 "nbformat": 4,
 "nbformat_minor": 4
}

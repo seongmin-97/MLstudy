{
 "cells": [
  {
   "cell_type": "code",
   "execution_count": 2,
   "metadata": {},
   "outputs": [
    {
     "data": {
      "text/html": [
       "<div>\n",
       "<style scoped>\n",
       "    .dataframe tbody tr th:only-of-type {\n",
       "        vertical-align: middle;\n",
       "    }\n",
       "\n",
       "    .dataframe tbody tr th {\n",
       "        vertical-align: top;\n",
       "    }\n",
       "\n",
       "    .dataframe thead th {\n",
       "        text-align: right;\n",
       "    }\n",
       "</style>\n",
       "<table border=\"1\" class=\"dataframe\">\n",
       "  <thead>\n",
       "    <tr style=\"text-align: right;\">\n",
       "      <th></th>\n",
       "      <th>date_time</th>\n",
       "      <th>wind_direction</th>\n",
       "      <th>sky_condition</th>\n",
       "      <th>precipitation_form</th>\n",
       "      <th>wind_speed</th>\n",
       "      <th>humidity</th>\n",
       "      <th>low_temp</th>\n",
       "      <th>high_temp</th>\n",
       "      <th>Precipitation_Probability</th>\n",
       "      <th>number_of_rentals</th>\n",
       "    </tr>\n",
       "  </thead>\n",
       "  <tbody>\n",
       "    <tr>\n",
       "      <th>0</th>\n",
       "      <td>2018-04-01</td>\n",
       "      <td>207.500</td>\n",
       "      <td>4.000</td>\n",
       "      <td>0.000</td>\n",
       "      <td>3.050</td>\n",
       "      <td>75.000</td>\n",
       "      <td>12.600</td>\n",
       "      <td>21.000</td>\n",
       "      <td>30.000</td>\n",
       "      <td>22994</td>\n",
       "    </tr>\n",
       "    <tr>\n",
       "      <th>1</th>\n",
       "      <td>2018-04-02</td>\n",
       "      <td>208.317</td>\n",
       "      <td>2.950</td>\n",
       "      <td>0.000</td>\n",
       "      <td>3.278</td>\n",
       "      <td>69.833</td>\n",
       "      <td>12.812</td>\n",
       "      <td>19.000</td>\n",
       "      <td>19.500</td>\n",
       "      <td>28139</td>\n",
       "    </tr>\n",
       "    <tr>\n",
       "      <th>2</th>\n",
       "      <td>2018-04-03</td>\n",
       "      <td>213.516</td>\n",
       "      <td>2.911</td>\n",
       "      <td>0.000</td>\n",
       "      <td>2.690</td>\n",
       "      <td>74.879</td>\n",
       "      <td>10.312</td>\n",
       "      <td>15.316</td>\n",
       "      <td>19.113</td>\n",
       "      <td>26817</td>\n",
       "    </tr>\n",
       "    <tr>\n",
       "      <th>3</th>\n",
       "      <td>2018-04-04</td>\n",
       "      <td>143.836</td>\n",
       "      <td>3.692</td>\n",
       "      <td>0.425</td>\n",
       "      <td>3.138</td>\n",
       "      <td>71.849</td>\n",
       "      <td>8.312</td>\n",
       "      <td>12.368</td>\n",
       "      <td>43.493</td>\n",
       "      <td>26034</td>\n",
       "    </tr>\n",
       "    <tr>\n",
       "      <th>4</th>\n",
       "      <td>2018-04-05</td>\n",
       "      <td>95.905</td>\n",
       "      <td>4.000</td>\n",
       "      <td>0.723</td>\n",
       "      <td>3.186</td>\n",
       "      <td>73.784</td>\n",
       "      <td>5.875</td>\n",
       "      <td>10.421</td>\n",
       "      <td>63.378</td>\n",
       "      <td>2833</td>\n",
       "    </tr>\n",
       "  </tbody>\n",
       "</table>\n",
       "</div>"
      ],
      "text/plain": [
       "    date_time  wind_direction  sky_condition  precipitation_form  wind_speed  \\\n",
       "0  2018-04-01         207.500          4.000               0.000       3.050   \n",
       "1  2018-04-02         208.317          2.950               0.000       3.278   \n",
       "2  2018-04-03         213.516          2.911               0.000       2.690   \n",
       "3  2018-04-04         143.836          3.692               0.425       3.138   \n",
       "4  2018-04-05          95.905          4.000               0.723       3.186   \n",
       "\n",
       "   humidity  low_temp  high_temp  Precipitation_Probability  number_of_rentals  \n",
       "0    75.000    12.600     21.000                     30.000              22994  \n",
       "1    69.833    12.812     19.000                     19.500              28139  \n",
       "2    74.879    10.312     15.316                     19.113              26817  \n",
       "3    71.849     8.312     12.368                     43.493              26034  \n",
       "4    73.784     5.875     10.421                     63.378               2833  "
      ]
     },
     "execution_count": 2,
     "metadata": {},
     "output_type": "execute_result"
    }
   ],
   "source": [
    "import pandas as pd\n",
    "\n",
    "train = pd.read_csv(\"./data/train.csv\")\n",
    "test = pd.read_csv(\"./data/test.csv\")\n",
    "\n",
    "train.head()"
   ]
  },
  {
   "cell_type": "code",
   "execution_count": 3,
   "metadata": {},
   "outputs": [
    {
     "data": {
      "text/html": [
       "<div>\n",
       "<style scoped>\n",
       "    .dataframe tbody tr th:only-of-type {\n",
       "        vertical-align: middle;\n",
       "    }\n",
       "\n",
       "    .dataframe tbody tr th {\n",
       "        vertical-align: top;\n",
       "    }\n",
       "\n",
       "    .dataframe thead th {\n",
       "        text-align: right;\n",
       "    }\n",
       "</style>\n",
       "<table border=\"1\" class=\"dataframe\">\n",
       "  <thead>\n",
       "    <tr style=\"text-align: right;\">\n",
       "      <th></th>\n",
       "      <th>date_time</th>\n",
       "      <th>wind_direction</th>\n",
       "      <th>sky_condition</th>\n",
       "      <th>precipitation_form</th>\n",
       "      <th>wind_speed</th>\n",
       "      <th>humidity</th>\n",
       "      <th>low_temp</th>\n",
       "      <th>high_temp</th>\n",
       "      <th>Precipitation_Probability</th>\n",
       "    </tr>\n",
       "  </thead>\n",
       "  <tbody>\n",
       "    <tr>\n",
       "      <th>0</th>\n",
       "      <td>2021-04-01</td>\n",
       "      <td>108.833</td>\n",
       "      <td>3.000</td>\n",
       "      <td>0.000</td>\n",
       "      <td>2.900</td>\n",
       "      <td>28.333</td>\n",
       "      <td>11.800</td>\n",
       "      <td>20.667</td>\n",
       "      <td>18.333</td>\n",
       "    </tr>\n",
       "    <tr>\n",
       "      <th>1</th>\n",
       "      <td>2021-04-02</td>\n",
       "      <td>116.717</td>\n",
       "      <td>3.850</td>\n",
       "      <td>0.000</td>\n",
       "      <td>2.662</td>\n",
       "      <td>46.417</td>\n",
       "      <td>12.000</td>\n",
       "      <td>19.000</td>\n",
       "      <td>28.500</td>\n",
       "    </tr>\n",
       "    <tr>\n",
       "      <th>2</th>\n",
       "      <td>2021-04-03</td>\n",
       "      <td>82.669</td>\n",
       "      <td>4.000</td>\n",
       "      <td>0.565</td>\n",
       "      <td>2.165</td>\n",
       "      <td>77.258</td>\n",
       "      <td>8.875</td>\n",
       "      <td>16.368</td>\n",
       "      <td>52.847</td>\n",
       "    </tr>\n",
       "    <tr>\n",
       "      <th>3</th>\n",
       "      <td>2021-04-04</td>\n",
       "      <td>44.123</td>\n",
       "      <td>3.466</td>\n",
       "      <td>0.466</td>\n",
       "      <td>3.747</td>\n",
       "      <td>63.288</td>\n",
       "      <td>6.250</td>\n",
       "      <td>17.368</td>\n",
       "      <td>37.671</td>\n",
       "    </tr>\n",
       "    <tr>\n",
       "      <th>4</th>\n",
       "      <td>2021-04-05</td>\n",
       "      <td>147.791</td>\n",
       "      <td>1.500</td>\n",
       "      <td>0.000</td>\n",
       "      <td>1.560</td>\n",
       "      <td>48.176</td>\n",
       "      <td>7.188</td>\n",
       "      <td>18.684</td>\n",
       "      <td>4.459</td>\n",
       "    </tr>\n",
       "  </tbody>\n",
       "</table>\n",
       "</div>"
      ],
      "text/plain": [
       "    date_time  wind_direction  sky_condition  precipitation_form  wind_speed  \\\n",
       "0  2021-04-01         108.833          3.000               0.000       2.900   \n",
       "1  2021-04-02         116.717          3.850               0.000       2.662   \n",
       "2  2021-04-03          82.669          4.000               0.565       2.165   \n",
       "3  2021-04-04          44.123          3.466               0.466       3.747   \n",
       "4  2021-04-05         147.791          1.500               0.000       1.560   \n",
       "\n",
       "   humidity  low_temp  high_temp  Precipitation_Probability  \n",
       "0    28.333    11.800     20.667                     18.333  \n",
       "1    46.417    12.000     19.000                     28.500  \n",
       "2    77.258     8.875     16.368                     52.847  \n",
       "3    63.288     6.250     17.368                     37.671  \n",
       "4    48.176     7.188     18.684                      4.459  "
      ]
     },
     "execution_count": 3,
     "metadata": {},
     "output_type": "execute_result"
    }
   ],
   "source": [
    "test.head()"
   ]
  },
  {
   "cell_type": "markdown",
   "metadata": {},
   "source": [
    "\n",
    "date_time : 일별 날짜 <br>\n",
    "wind_direction: 풍향 (degree) <br>\n",
    "sky_condition : 하늘 상태 (하단 설명 참조) <br>\n",
    "precipitation_form : 강수 형태 (하단 설명 참조) <br>\n",
    "wind_speed : 풍속 (m/s) <br>\n",
    "humidity : 습도 (%) <br>\n",
    "low_temp : 최저 기온 ( C) <br>\n",
    "high_temp : 최고 기온 ( C) <br>\n",
    "Precipitation_Probability : 강수 확률 (%) <br>\n",
    "number_of_rentals : 따릉이 대여량 <br>\n",
    "\n",
    "\n",
    "기상 데이터는 하루에 총 8번 3시간 간격으로 발표되는 기상단기예보(SHRT) 데이터를 1일 평균으로 변환한 데이터입니다.<br>\n",
    "2019년 6월 4일 까지 sky_condition (하늘 상태) 코드  : 맑음(1), 구름조금(2), 구름많음(3), 흐림(4)<br>\n",
    "2020년  sky_condition (하늘 상태) 코드  : 맑음(1), 구름많음(3), 흐림(4)<br>\n",
    "precipitation_form (강수 형태) 코드 : 없음(0), 비(1), 진눈깨비(2), 눈(3), 소나기(4)<br>\n",
    "원본 데이터에는 없음(0), 비(1),소나기(4)가 포함되어있었으며 진눈깨비(2)와 눈(3) 성분은 존재하지 않습니다."
   ]
  },
  {
   "cell_type": "code",
   "execution_count": 4,
   "metadata": {},
   "outputs": [
    {
     "name": "stdout",
     "output_type": "stream",
     "text": [
      "<class 'pandas.core.frame.DataFrame'>\n",
      "RangeIndex: 273 entries, 0 to 272\n",
      "Data columns (total 10 columns):\n",
      " #   Column                     Non-Null Count  Dtype  \n",
      "---  ------                     --------------  -----  \n",
      " 0   date_time                  273 non-null    object \n",
      " 1   wind_direction             273 non-null    float64\n",
      " 2   sky_condition              273 non-null    float64\n",
      " 3   precipitation_form         273 non-null    float64\n",
      " 4   wind_speed                 273 non-null    float64\n",
      " 5   humidity                   273 non-null    float64\n",
      " 6   low_temp                   273 non-null    float64\n",
      " 7   high_temp                  273 non-null    float64\n",
      " 8   Precipitation_Probability  273 non-null    float64\n",
      " 9   number_of_rentals          273 non-null    int64  \n",
      "dtypes: float64(8), int64(1), object(1)\n",
      "memory usage: 21.5+ KB\n"
     ]
    }
   ],
   "source": [
    "train.info()\n",
    "# 날짜 값만 바꿔주면 될 것 같다."
   ]
  },
  {
   "cell_type": "code",
   "execution_count": 5,
   "metadata": {},
   "outputs": [
    {
     "name": "stdout",
     "output_type": "stream",
     "text": [
      "<class 'pandas.core.frame.DataFrame'>\n",
      "RangeIndex: 91 entries, 0 to 90\n",
      "Data columns (total 9 columns):\n",
      " #   Column                     Non-Null Count  Dtype  \n",
      "---  ------                     --------------  -----  \n",
      " 0   date_time                  91 non-null     object \n",
      " 1   wind_direction             91 non-null     float64\n",
      " 2   sky_condition              91 non-null     float64\n",
      " 3   precipitation_form         91 non-null     float64\n",
      " 4   wind_speed                 91 non-null     float64\n",
      " 5   humidity                   91 non-null     float64\n",
      " 6   low_temp                   91 non-null     float64\n",
      " 7   high_temp                  91 non-null     float64\n",
      " 8   Precipitation_Probability  91 non-null     float64\n",
      "dtypes: float64(8), object(1)\n",
      "memory usage: 6.5+ KB\n"
     ]
    }
   ],
   "source": [
    "test.info()\n",
    "# number_of_rentals가 레이블값인것 같다."
   ]
  },
  {
   "cell_type": "code",
   "execution_count": 6,
   "metadata": {},
   "outputs": [
    {
     "data": {
      "text/html": [
       "<div>\n",
       "<style scoped>\n",
       "    .dataframe tbody tr th:only-of-type {\n",
       "        vertical-align: middle;\n",
       "    }\n",
       "\n",
       "    .dataframe tbody tr th {\n",
       "        vertical-align: top;\n",
       "    }\n",
       "\n",
       "    .dataframe thead th {\n",
       "        text-align: right;\n",
       "    }\n",
       "</style>\n",
       "<table border=\"1\" class=\"dataframe\">\n",
       "  <thead>\n",
       "    <tr style=\"text-align: right;\">\n",
       "      <th></th>\n",
       "      <th>date_time</th>\n",
       "      <th>wind_direction</th>\n",
       "      <th>sky_condition</th>\n",
       "      <th>precipitation_form</th>\n",
       "      <th>wind_speed</th>\n",
       "      <th>humidity</th>\n",
       "      <th>low_temp</th>\n",
       "      <th>high_temp</th>\n",
       "      <th>Precipitation_Probability</th>\n",
       "      <th>number_of_rentals</th>\n",
       "    </tr>\n",
       "  </thead>\n",
       "  <tbody>\n",
       "    <tr>\n",
       "      <th>268</th>\n",
       "      <td>2020-06-26</td>\n",
       "      <td>228.662</td>\n",
       "      <td>3.980</td>\n",
       "      <td>0.223</td>\n",
       "      <td>2.271</td>\n",
       "      <td>78.378</td>\n",
       "      <td>20.500</td>\n",
       "      <td>27.526</td>\n",
       "      <td>36.486</td>\n",
       "      <td>96150</td>\n",
       "    </tr>\n",
       "    <tr>\n",
       "      <th>269</th>\n",
       "      <td>2020-06-27</td>\n",
       "      <td>207.770</td>\n",
       "      <td>2.865</td>\n",
       "      <td>0.081</td>\n",
       "      <td>1.794</td>\n",
       "      <td>78.412</td>\n",
       "      <td>20.812</td>\n",
       "      <td>28.842</td>\n",
       "      <td>21.081</td>\n",
       "      <td>107001</td>\n",
       "    </tr>\n",
       "    <tr>\n",
       "      <th>270</th>\n",
       "      <td>2020-06-28</td>\n",
       "      <td>282.568</td>\n",
       "      <td>1.730</td>\n",
       "      <td>0.000</td>\n",
       "      <td>1.820</td>\n",
       "      <td>72.736</td>\n",
       "      <td>21.000</td>\n",
       "      <td>29.053</td>\n",
       "      <td>7.297</td>\n",
       "      <td>98568</td>\n",
       "    </tr>\n",
       "    <tr>\n",
       "      <th>271</th>\n",
       "      <td>2020-06-29</td>\n",
       "      <td>137.027</td>\n",
       "      <td>2.257</td>\n",
       "      <td>0.088</td>\n",
       "      <td>2.043</td>\n",
       "      <td>70.473</td>\n",
       "      <td>19.625</td>\n",
       "      <td>26.000</td>\n",
       "      <td>15.541</td>\n",
       "      <td>70053</td>\n",
       "    </tr>\n",
       "    <tr>\n",
       "      <th>272</th>\n",
       "      <td>2020-06-30</td>\n",
       "      <td>120.797</td>\n",
       "      <td>3.622</td>\n",
       "      <td>0.432</td>\n",
       "      <td>5.574</td>\n",
       "      <td>77.061</td>\n",
       "      <td>19.125</td>\n",
       "      <td>26.053</td>\n",
       "      <td>41.284</td>\n",
       "      <td>38086</td>\n",
       "    </tr>\n",
       "  </tbody>\n",
       "</table>\n",
       "</div>"
      ],
      "text/plain": [
       "      date_time  wind_direction  sky_condition  precipitation_form  \\\n",
       "268  2020-06-26         228.662          3.980               0.223   \n",
       "269  2020-06-27         207.770          2.865               0.081   \n",
       "270  2020-06-28         282.568          1.730               0.000   \n",
       "271  2020-06-29         137.027          2.257               0.088   \n",
       "272  2020-06-30         120.797          3.622               0.432   \n",
       "\n",
       "     wind_speed  humidity  low_temp  high_temp  Precipitation_Probability  \\\n",
       "268       2.271    78.378    20.500     27.526                     36.486   \n",
       "269       1.794    78.412    20.812     28.842                     21.081   \n",
       "270       1.820    72.736    21.000     29.053                      7.297   \n",
       "271       2.043    70.473    19.625     26.000                     15.541   \n",
       "272       5.574    77.061    19.125     26.053                     41.284   \n",
       "\n",
       "     number_of_rentals  \n",
       "268              96150  \n",
       "269             107001  \n",
       "270              98568  \n",
       "271              70053  \n",
       "272              38086  "
      ]
     },
     "execution_count": 6,
     "metadata": {},
     "output_type": "execute_result"
    }
   ],
   "source": [
    "train.tail()"
   ]
  },
  {
   "cell_type": "code",
   "execution_count": 7,
   "metadata": {},
   "outputs": [],
   "source": [
    "# 날짜 데이트 객체로 변환\n",
    "train['date_time'] = pd.to_datetime(train['date_time'])\n",
    "test['date_time'] = pd.to_datetime(test['date_time'])"
   ]
  },
  {
   "cell_type": "code",
   "execution_count": 8,
   "metadata": {},
   "outputs": [],
   "source": [
    "# 연 월 일 저장\n",
    "\n",
    "train['year'] = train['date_time'].dt.year\n",
    "test['year'] = test['date_time'].dt.year\n",
    "\n",
    "train['month'] = train['date_time'].dt.month\n",
    "test['month'] = test['date_time'].dt.month\n",
    "\n",
    "train['day'] = train['date_time'].dt.day\n",
    "test['day'] = test['date_time'].dt.day"
   ]
  },
  {
   "cell_type": "code",
   "execution_count": 9,
   "metadata": {},
   "outputs": [],
   "source": [
    "# 요일 저장\n",
    "\n",
    "train['daysOfWeek'] = train['date_time'].dt.day_name().str[:2].map({'Mo' : 0, 'Tu' : 1, 'We' : 2, 'Th' : 3, 'Fr' : 4, 'Sa' : 5, 'Su' : 6})\n",
    "test['daysOfWeek'] = test['date_time'].dt.day_name().str[:2].map({'Mo' : 0, 'Tu' : 1, 'We' : 2, 'Th' : 3, 'Fr' : 4, 'Sa' : 5, 'Su' : 6})"
   ]
  },
  {
   "cell_type": "code",
   "execution_count": 10,
   "metadata": {},
   "outputs": [],
   "source": [
    "# 원래 날짜는 삭제\n",
    "\n",
    "train = train.drop(['date_time'], axis=1)\n",
    "test = test.drop(['date_time'], axis=1)"
   ]
  },
  {
   "cell_type": "code",
   "execution_count": 11,
   "metadata": {},
   "outputs": [],
   "source": [
    "# 코로나 여부 칼럼 생성 \n",
    "\n",
    "train['covid'] = 0\n",
    "test['covid'] = 0\n",
    "\n",
    "train.loc[(train['year'] == 2020) & (train['month'] >= 2), \"covid\"] = 1\n",
    "train.loc[train['year'] > 2020, \"covid\"] = 1\n",
    "test.loc[(test['year'] == 2020) & (test['month'] >= 2), \"covid\"] = 1\n",
    "test.loc[test['year'] > 2020, \"covid\"] = 1"
   ]
  },
  {
   "cell_type": "code",
   "execution_count": 12,
   "metadata": {},
   "outputs": [],
   "source": [
    "# 날씨 관련 칼럼 생성\n",
    "\n",
    "# 일교차\n",
    "train['temp_diff_info'] = train['high_temp'] - train['low_temp']\n",
    "test['temp_diff_info'] = test['high_temp'] - test['low_temp']\n",
    "# 덥고 습한 정도\n",
    "train['sweat_info'] = train['high_temp'] * train['humidity']\n",
    "test['sweat_info'] = test['high_temp'] * test['humidity']\n",
    "# 춥고 바람부는 날씨\n",
    "train['cold_info'] = train['low_temp'] * train['wind_speed']\n",
    "test['cold_info'] = test['low_temp'] * test['wind_speed']"
   ]
  },
  {
   "cell_type": "code",
   "execution_count": 13,
   "metadata": {},
   "outputs": [
    {
     "data": {
      "image/png": "[encoded data removed]",
      "text/plain": [
       "<Figure size 432x288 with 2 Axes>"
      ]
     },
     "metadata": {
      "needs_background": "light"
     },
     "output_type": "display_data"
    }
   ],
   "source": [
    "import seaborn as sns\n",
    "import matplotlib.pyplot as plt\n",
    "# 상관관계\n",
    "corr = train.corr()\n",
    "sns.heatmap(corr, cmap='viridis')\n",
    "plt.show()"
   ]
  },
  {
   "cell_type": "code",
   "execution_count": 14,
   "metadata": {},
   "outputs": [
    {
     "data": {
      "text/plain": [
       "wind_direction               0.209996\n",
       "sky_condition               -0.384234\n",
       "precipitation_form          -0.420458\n",
       "wind_speed                  -0.464761\n",
       "humidity                    -0.147824\n",
       "low_temp                     0.317741\n",
       "high_temp                    0.423113\n",
       "Precipitation_Probability   -0.449225\n",
       "number_of_rentals            1.000000\n",
       "year                         0.739011\n",
       "month                        0.320019\n",
       "day                          0.050760\n",
       "daysOfWeek                  -0.007583\n",
       "covid                        0.559305\n",
       "temp_diff_info               0.281452\n",
       "sweat_info                   0.210250\n",
       "cold_info                   -0.134662\n",
       "Name: number_of_rentals, dtype: float64"
      ]
     },
     "execution_count": 14,
     "metadata": {},
     "output_type": "execute_result"
    }
   ],
   "source": [
    "# 상관관계\n",
    "\n",
    "corr = train.corr()\n",
    "corr['number_of_rentals']"
   ]
  },
  {
   "cell_type": "code",
   "execution_count": 15,
   "metadata": {},
   "outputs": [
    {
     "data": {
      "text/plain": [
       "<matplotlib.collections.PathCollection at 0x200ff132c08>"
      ]
     },
     "execution_count": 15,
     "metadata": {},
     "output_type": "execute_result"
    },
    {
     "data": {
      "image/png": "[encoded data removed]",
      "text/plain": [
       "<Figure size 432x288 with 1 Axes>"
      ]
     },
     "metadata": {
      "needs_background": "light"
     },
     "output_type": "display_data"
    }
   ],
   "source": [
    "# 그래프로 이상치를 찾기는 뭔가 어렵다\n",
    "\n",
    "plt.scatter(x=train['Precipitation_Probability'], y=train['number_of_rentals'])"
   ]
  },
  {
   "cell_type": "code",
   "execution_count": 16,
   "metadata": {},
   "outputs": [
    {
     "data": {
      "text/plain": [
       "<matplotlib.collections.PathCollection at 0x200ffc57488>"
      ]
     },
     "execution_count": 16,
     "metadata": {},
     "output_type": "execute_result"
    },
    {
     "data": {
      "image/png": "[encoded data removed]",
      "text/plain": [
       "<Figure size 432x288 with 1 Axes>"
      ]
     },
     "metadata": {
      "needs_background": "light"
     },
     "output_type": "display_data"
    }
   ],
   "source": [
    "plt.scatter(x=train['high_temp'], y=train['number_of_rentals'])"
   ]
  },
  {
   "cell_type": "code",
   "execution_count": 17,
   "metadata": {},
   "outputs": [
    {
     "data": {
      "text/plain": [
       "<matplotlib.axes._subplots.AxesSubplot at 0x200ffc85f88>"
      ]
     },
     "execution_count": 17,
     "metadata": {},
     "output_type": "execute_result"
    },
    {
     "data": {
      "image/png": "[encoded data removed]",
      "text/plain": [
       "<Figure size 432x288 with 1 Axes>"
      ]
     },
     "metadata": {
      "needs_background": "light"
     },
     "output_type": "display_data"
    }
   ],
   "source": [
    "# y 값은 로그변환을 했더니 더욱 치우친 값이 나와서 이걸로 사용\n",
    "\n",
    "train['number_of_rentals'].hist()"
   ]
  },
  {
   "cell_type": "code",
   "execution_count": 18,
   "metadata": {},
   "outputs": [
    {
     "data": {
      "text/plain": [
       "<matplotlib.axes._subplots.AxesSubplot at 0x200ffd592c8>"
      ]
     },
     "execution_count": 18,
     "metadata": {},
     "output_type": "execute_result"
    },
    {
     "data": {
      "image/png": "[encoded data removed]",
      "text/plain": [
       "<Figure size 432x288 with 1 Axes>"
      ]
     },
     "metadata": {
      "needs_background": "light"
     },
     "output_type": "display_data"
    }
   ],
   "source": [
    "import numpy as np\n",
    "\n",
    "np.log1p(train['number_of_rentals']).hist()"
   ]
  },
  {
   "cell_type": "code",
   "execution_count": 19,
   "metadata": {},
   "outputs": [
    {
     "data": {
      "text/plain": [
       "(array([13., 38., 56., 76., 37., 24., 15.,  6.,  5.,  3.]),\n",
       " array([0.753 , 1.2384, 1.7238, 2.2092, 2.6946, 3.18  , 3.6654, 4.1508,\n",
       "        4.6362, 5.1216, 5.607 ]),\n",
       " <a list of 10 Patch objects>)"
      ]
     },
     "execution_count": 19,
     "metadata": {},
     "output_type": "execute_result"
    },
    {
     "data": {
      "image/png": "[encoded data removed]",
      "text/plain": [
       "<Figure size 864x288 with 4 Axes>"
      ]
     },
     "metadata": {
      "needs_background": "light"
     },
     "output_type": "display_data"
    }
   ],
   "source": [
    "# x 값들의 데이터 분포를 살펴보자!\n",
    "\n",
    "fig, (ax1, ax2, ax3, ax4) = plt.subplots(figsize = (12, 4), nrows=1, ncols=4)\n",
    "\n",
    "ax1.set_title('wind_direction')\n",
    "ax1.hist(train['wind_direction'])\n",
    "\n",
    "ax2.set_title('sky_condition')\n",
    "ax2.hist(train['sky_condition'])\n",
    "\n",
    "ax3.set_title('precipitation_form')\n",
    "ax3.hist(train['precipitation_form'])\n",
    "\n",
    "ax4.set_title('wind_speed')\n",
    "ax4.hist(train['wind_speed'])"
   ]
  },
  {
   "cell_type": "code",
   "execution_count": 20,
   "metadata": {},
   "outputs": [
    {
     "data": {
      "text/plain": [
       "(array([104.,  65.,  38.,  21.,  17.,  11.,   8.,   5.,   1.,   3.]),\n",
       " array([ 0.    ,  8.2162, 16.4324, 24.6486, 32.8648, 41.081 , 49.2972,\n",
       "        57.5134, 65.7296, 73.9458, 82.162 ]),\n",
       " <a list of 10 Patch objects>)"
      ]
     },
     "execution_count": 20,
     "metadata": {},
     "output_type": "execute_result"
    },
    {
     "data": {
      "image/png": "[encoded data removed]",
      "text/plain": [
       "<Figure size 864x288 with 4 Axes>"
      ]
     },
     "metadata": {
      "needs_background": "light"
     },
     "output_type": "display_data"
    }
   ],
   "source": [
    "fig, (ax1, ax2, ax3, ax4) = plt.subplots(figsize = (12, 4), nrows=1, ncols=4)\n",
    "\n",
    "ax1.set_title('humidity')\n",
    "ax1.hist(train['humidity'])\n",
    "\n",
    "ax2.set_title('low_temp')\n",
    "ax2.hist(train['low_temp'])\n",
    "\n",
    "ax3.set_title('high_temp')\n",
    "ax3.hist(train['high_temp'])\n",
    "\n",
    "ax4.set_title('Precipitation_Probability')\n",
    "ax4.hist(train['Precipitation_Probability'])"
   ]
  },
  {
   "cell_type": "code",
   "execution_count": 21,
   "metadata": {},
   "outputs": [],
   "source": [
    "# 테스트 데이터 라벨값 찾음 ㅋㅋ\n",
    "\n",
    "test_y = pd.read_csv('./data/y_train.csv', encoding='cp949')\n",
    "test['number_of_rentals'] = test_y['대여건수']"
   ]
  },
  {
   "cell_type": "code",
   "execution_count": 22,
   "metadata": {},
   "outputs": [
    {
     "data": {
      "text/html": [
       "<div>\n",
       "<style scoped>\n",
       "    .dataframe tbody tr th:only-of-type {\n",
       "        vertical-align: middle;\n",
       "    }\n",
       "\n",
       "    .dataframe tbody tr th {\n",
       "        vertical-align: top;\n",
       "    }\n",
       "\n",
       "    .dataframe thead th {\n",
       "        text-align: right;\n",
       "    }\n",
       "</style>\n",
       "<table border=\"1\" class=\"dataframe\">\n",
       "  <thead>\n",
       "    <tr style=\"text-align: right;\">\n",
       "      <th></th>\n",
       "      <th>wind_direction</th>\n",
       "      <th>sky_condition</th>\n",
       "      <th>precipitation_form</th>\n",
       "      <th>wind_speed</th>\n",
       "      <th>humidity</th>\n",
       "      <th>low_temp</th>\n",
       "      <th>high_temp</th>\n",
       "      <th>Precipitation_Probability</th>\n",
       "      <th>year</th>\n",
       "      <th>month</th>\n",
       "      <th>day</th>\n",
       "      <th>daysOfWeek</th>\n",
       "      <th>covid</th>\n",
       "      <th>temp_diff_info</th>\n",
       "      <th>sweat_info</th>\n",
       "      <th>cold_info</th>\n",
       "    </tr>\n",
       "  </thead>\n",
       "  <tbody>\n",
       "    <tr>\n",
       "      <th>0</th>\n",
       "      <td>207.500</td>\n",
       "      <td>4.000</td>\n",
       "      <td>0.000</td>\n",
       "      <td>3.050</td>\n",
       "      <td>75.000</td>\n",
       "      <td>12.600</td>\n",
       "      <td>21.000</td>\n",
       "      <td>30.000</td>\n",
       "      <td>2018</td>\n",
       "      <td>4</td>\n",
       "      <td>1</td>\n",
       "      <td>6</td>\n",
       "      <td>0</td>\n",
       "      <td>8.400</td>\n",
       "      <td>1575.000000</td>\n",
       "      <td>38.430000</td>\n",
       "    </tr>\n",
       "    <tr>\n",
       "      <th>1</th>\n",
       "      <td>208.317</td>\n",
       "      <td>2.950</td>\n",
       "      <td>0.000</td>\n",
       "      <td>3.278</td>\n",
       "      <td>69.833</td>\n",
       "      <td>12.812</td>\n",
       "      <td>19.000</td>\n",
       "      <td>19.500</td>\n",
       "      <td>2018</td>\n",
       "      <td>4</td>\n",
       "      <td>2</td>\n",
       "      <td>0</td>\n",
       "      <td>0</td>\n",
       "      <td>6.188</td>\n",
       "      <td>1326.827000</td>\n",
       "      <td>41.997736</td>\n",
       "    </tr>\n",
       "    <tr>\n",
       "      <th>2</th>\n",
       "      <td>213.516</td>\n",
       "      <td>2.911</td>\n",
       "      <td>0.000</td>\n",
       "      <td>2.690</td>\n",
       "      <td>74.879</td>\n",
       "      <td>10.312</td>\n",
       "      <td>15.316</td>\n",
       "      <td>19.113</td>\n",
       "      <td>2018</td>\n",
       "      <td>4</td>\n",
       "      <td>3</td>\n",
       "      <td>1</td>\n",
       "      <td>0</td>\n",
       "      <td>5.004</td>\n",
       "      <td>1146.846764</td>\n",
       "      <td>27.739280</td>\n",
       "    </tr>\n",
       "    <tr>\n",
       "      <th>3</th>\n",
       "      <td>143.836</td>\n",
       "      <td>3.692</td>\n",
       "      <td>0.425</td>\n",
       "      <td>3.138</td>\n",
       "      <td>71.849</td>\n",
       "      <td>8.312</td>\n",
       "      <td>12.368</td>\n",
       "      <td>43.493</td>\n",
       "      <td>2018</td>\n",
       "      <td>4</td>\n",
       "      <td>4</td>\n",
       "      <td>2</td>\n",
       "      <td>0</td>\n",
       "      <td>4.056</td>\n",
       "      <td>888.628432</td>\n",
       "      <td>26.083056</td>\n",
       "    </tr>\n",
       "    <tr>\n",
       "      <th>4</th>\n",
       "      <td>95.905</td>\n",
       "      <td>4.000</td>\n",
       "      <td>0.723</td>\n",
       "      <td>3.186</td>\n",
       "      <td>73.784</td>\n",
       "      <td>5.875</td>\n",
       "      <td>10.421</td>\n",
       "      <td>63.378</td>\n",
       "      <td>2018</td>\n",
       "      <td>4</td>\n",
       "      <td>5</td>\n",
       "      <td>3</td>\n",
       "      <td>0</td>\n",
       "      <td>4.546</td>\n",
       "      <td>768.903064</td>\n",
       "      <td>18.717750</td>\n",
       "    </tr>\n",
       "    <tr>\n",
       "      <th>...</th>\n",
       "      <td>...</td>\n",
       "      <td>...</td>\n",
       "      <td>...</td>\n",
       "      <td>...</td>\n",
       "      <td>...</td>\n",
       "      <td>...</td>\n",
       "      <td>...</td>\n",
       "      <td>...</td>\n",
       "      <td>...</td>\n",
       "      <td>...</td>\n",
       "      <td>...</td>\n",
       "      <td>...</td>\n",
       "      <td>...</td>\n",
       "      <td>...</td>\n",
       "      <td>...</td>\n",
       "      <td>...</td>\n",
       "    </tr>\n",
       "    <tr>\n",
       "      <th>268</th>\n",
       "      <td>228.662</td>\n",
       "      <td>3.980</td>\n",
       "      <td>0.223</td>\n",
       "      <td>2.271</td>\n",
       "      <td>78.378</td>\n",
       "      <td>20.500</td>\n",
       "      <td>27.526</td>\n",
       "      <td>36.486</td>\n",
       "      <td>2020</td>\n",
       "      <td>6</td>\n",
       "      <td>26</td>\n",
       "      <td>4</td>\n",
       "      <td>1</td>\n",
       "      <td>7.026</td>\n",
       "      <td>2157.432828</td>\n",
       "      <td>46.555500</td>\n",
       "    </tr>\n",
       "    <tr>\n",
       "      <th>269</th>\n",
       "      <td>207.770</td>\n",
       "      <td>2.865</td>\n",
       "      <td>0.081</td>\n",
       "      <td>1.794</td>\n",
       "      <td>78.412</td>\n",
       "      <td>20.812</td>\n",
       "      <td>28.842</td>\n",
       "      <td>21.081</td>\n",
       "      <td>2020</td>\n",
       "      <td>6</td>\n",
       "      <td>27</td>\n",
       "      <td>5</td>\n",
       "      <td>1</td>\n",
       "      <td>8.030</td>\n",
       "      <td>2261.558904</td>\n",
       "      <td>37.336728</td>\n",
       "    </tr>\n",
       "    <tr>\n",
       "      <th>270</th>\n",
       "      <td>282.568</td>\n",
       "      <td>1.730</td>\n",
       "      <td>0.000</td>\n",
       "      <td>1.820</td>\n",
       "      <td>72.736</td>\n",
       "      <td>21.000</td>\n",
       "      <td>29.053</td>\n",
       "      <td>7.297</td>\n",
       "      <td>2020</td>\n",
       "      <td>6</td>\n",
       "      <td>28</td>\n",
       "      <td>6</td>\n",
       "      <td>1</td>\n",
       "      <td>8.053</td>\n",
       "      <td>2113.199008</td>\n",
       "      <td>38.220000</td>\n",
       "    </tr>\n",
       "    <tr>\n",
       "      <th>271</th>\n",
       "      <td>137.027</td>\n",
       "      <td>2.257</td>\n",
       "      <td>0.088</td>\n",
       "      <td>2.043</td>\n",
       "      <td>70.473</td>\n",
       "      <td>19.625</td>\n",
       "      <td>26.000</td>\n",
       "      <td>15.541</td>\n",
       "      <td>2020</td>\n",
       "      <td>6</td>\n",
       "      <td>29</td>\n",
       "      <td>0</td>\n",
       "      <td>1</td>\n",
       "      <td>6.375</td>\n",
       "      <td>1832.298000</td>\n",
       "      <td>40.093875</td>\n",
       "    </tr>\n",
       "    <tr>\n",
       "      <th>272</th>\n",
       "      <td>120.797</td>\n",
       "      <td>3.622</td>\n",
       "      <td>0.432</td>\n",
       "      <td>5.574</td>\n",
       "      <td>77.061</td>\n",
       "      <td>19.125</td>\n",
       "      <td>26.053</td>\n",
       "      <td>41.284</td>\n",
       "      <td>2020</td>\n",
       "      <td>6</td>\n",
       "      <td>30</td>\n",
       "      <td>1</td>\n",
       "      <td>1</td>\n",
       "      <td>6.928</td>\n",
       "      <td>2007.670233</td>\n",
       "      <td>106.602750</td>\n",
       "    </tr>\n",
       "  </tbody>\n",
       "</table>\n",
       "<p>273 rows × 16 columns</p>\n",
       "</div>"
      ],
      "text/plain": [
       "     wind_direction  sky_condition  precipitation_form  wind_speed  humidity  \\\n",
       "0           207.500          4.000               0.000       3.050    75.000   \n",
       "1           208.317          2.950               0.000       3.278    69.833   \n",
       "2           213.516          2.911               0.000       2.690    74.879   \n",
       "3           143.836          3.692               0.425       3.138    71.849   \n",
       "4            95.905          4.000               0.723       3.186    73.784   \n",
       "..              ...            ...                 ...         ...       ...   \n",
       "268         228.662          3.980               0.223       2.271    78.378   \n",
       "269         207.770          2.865               0.081       1.794    78.412   \n",
       "270         282.568          1.730               0.000       1.820    72.736   \n",
       "271         137.027          2.257               0.088       2.043    70.473   \n",
       "272         120.797          3.622               0.432       5.574    77.061   \n",
       "\n",
       "     low_temp  high_temp  Precipitation_Probability  year  month  day  \\\n",
       "0      12.600     21.000                     30.000  2018      4    1   \n",
       "1      12.812     19.000                     19.500  2018      4    2   \n",
       "2      10.312     15.316                     19.113  2018      4    3   \n",
       "3       8.312     12.368                     43.493  2018      4    4   \n",
       "4       5.875     10.421                     63.378  2018      4    5   \n",
       "..        ...        ...                        ...   ...    ...  ...   \n",
       "268    20.500     27.526                     36.486  2020      6   26   \n",
       "269    20.812     28.842                     21.081  2020      6   27   \n",
       "270    21.000     29.053                      7.297  2020      6   28   \n",
       "271    19.625     26.000                     15.541  2020      6   29   \n",
       "272    19.125     26.053                     41.284  2020      6   30   \n",
       "\n",
       "     daysOfWeek  covid  temp_diff_info   sweat_info   cold_info  \n",
       "0             6      0           8.400  1575.000000   38.430000  \n",
       "1             0      0           6.188  1326.827000   41.997736  \n",
       "2             1      0           5.004  1146.846764   27.739280  \n",
       "3             2      0           4.056   888.628432   26.083056  \n",
       "4             3      0           4.546   768.903064   18.717750  \n",
       "..          ...    ...             ...          ...         ...  \n",
       "268           4      1           7.026  2157.432828   46.555500  \n",
       "269           5      1           8.030  2261.558904   37.336728  \n",
       "270           6      1           8.053  2113.199008   38.220000  \n",
       "271           0      1           6.375  1832.298000   40.093875  \n",
       "272           1      1           6.928  2007.670233  106.602750  \n",
       "\n",
       "[273 rows x 16 columns]"
      ]
     },
     "execution_count": 22,
     "metadata": {},
     "output_type": "execute_result"
    }
   ],
   "source": [
    "from sklearn.model_selection import train_test_split\n",
    "\n",
    "X_train = train.drop('number_of_rentals', axis=1)\n",
    "y_train = train['number_of_rentals']\n",
    "X_test = test.drop('number_of_rentals', axis=1)\n",
    "y_test = test['number_of_rentals'].astype('int64')\n",
    "\n",
    "X_train"
   ]
  },
  {
   "cell_type": "code",
   "execution_count": 23,
   "metadata": {},
   "outputs": [],
   "source": [
    "# 중간에 모델 돌렸었는데 year의 회귀 계수가 너무 높다\n",
    "# 뭔가 이상하다 바꿔보자\n",
    "# year를 원핫 인코딩을 하려니...\n",
    "\n",
    "X_train['year_2018'] = 0\n",
    "X_test['year_2018'] = 0\n",
    "\n",
    "X_train['year_2019'] = 0\n",
    "X_test['year_2019'] = 0\n",
    "\n",
    "X_train['year_2020'] = 0\n",
    "X_test['year_2020'] = 0\n",
    "\n",
    "X_train['year_2021'] = 0\n",
    "X_test['year_2021'] = 0\n",
    "\n",
    "X_train.loc[X_train['year']==2018, \"year_2018\"] = 1\n",
    "X_train.loc[X_train['year']==2019, \"year_2019\"] = 1\n",
    "X_train.loc[X_train['year']==2020, \"year_2020\"] = 1\n",
    "X_train.loc[X_train['year']==2021, \"year_2021\"] = 1\n",
    "\n",
    "X_test.loc[X_test['year']==2018, \"year_2018\"] = 1\n",
    "X_test.loc[X_test['year']==2019, \"year_2019\"] = 1\n",
    "X_test.loc[X_test['year']==2020, \"year_2020\"] = 1\n",
    "X_test.loc[X_test['year']==2021, \"year_2021\"] = 1\n",
    "\n",
    "X_train = X_train.drop('year', axis=1)\n",
    "X_test = X_test.drop('year', axis=1)"
   ]
  },
  {
   "cell_type": "code",
   "execution_count": 24,
   "metadata": {},
   "outputs": [],
   "source": [
    "# 로그 변환을 한 결과가 더 좋게 나왔다. (선형 0.55 -> 0.51, 릿지 0.55 -> 0.57, 라쏘 0.54 -> 0.47)\n",
    "\n",
    "X_train = np.log1p(X_train)\n",
    "y_train = np.log1p(y_train)\n",
    "X_test = np.log1p(X_test)\n",
    "y_test = np.log1p(y_test)"
   ]
  },
  {
   "cell_type": "code",
   "execution_count": 25,
   "metadata": {},
   "outputs": [],
   "source": [
    "# 나중에 없애기로 결정\n",
    "# 선형 0.51 릿지 0.51 라쏘 0.42 => 모두 0.41\n",
    "\n",
    "X_train = X_train.drop('year_2018', axis=1)\n",
    "X_test = X_test.drop('year_2018', axis=1)\n",
    "\n",
    "X_train = X_train.drop('year_2019', axis=1)\n",
    "X_test = X_test.drop('year_2019', axis=1)\n",
    "\n",
    "X_train = X_train.drop('year_2020', axis=1)\n",
    "X_test = X_test.drop('year_2020', axis=1)\n",
    "\n",
    "X_train = X_train.drop('year_2021', axis=1)\n",
    "X_test = X_test.drop('year_2021', axis=1)"
   ]
  },
  {
   "cell_type": "code",
   "execution_count": 29,
   "metadata": {},
   "outputs": [],
   "source": [
    "# 평가함수\n",
    "\n",
    "def NMAE(true, pred):\n",
    "    score = np.mean(np.abs(true-pred) / true)\n",
    "    return score"
   ]
  },
  {
   "cell_type": "code",
   "execution_count": 30,
   "metadata": {},
   "outputs": [
    {
     "name": "stdout",
     "output_type": "stream",
     "text": [
      "0.389216516920296\n",
      "릿지 :  0.39260330757368117\n",
      "라쏘 :  0.39884281436433705\n"
     ]
    }
   ],
   "source": [
    "# model 별로 평가 수행\n",
    "from sklearn.linear_model import LinearRegression, Ridge, Lasso\n",
    "lr_reg = LinearRegression()\n",
    "ridge_reg = Ridge(alpha=0.001)\n",
    "lasso_reg = Lasso(alpha=0.0005)\n",
    "\n",
    "\n",
    "lr_reg.fit(X_train, y_train)\n",
    "pred = np.expm1(lr_reg.predict(X_test))\n",
    "\n",
    "ridge_reg.fit(X_train, y_train)\n",
    "lasso_reg.fit(X_train, y_train)\n",
    "\n",
    "pred_ridge = np.expm1(ridge_reg.predict(X_test))\n",
    "pred_lasso = np.expm1(lasso_reg.predict(X_test))\n",
    "\n",
    "print(NMAE(np.expm1(y_test), pred))\n",
    "print('릿지 : ', NMAE(np.expm1(y_test), pred_ridge))\n",
    "print('라쏘 : ', NMAE(np.expm1(y_test), pred_lasso))"
   ]
  },
  {
   "cell_type": "code",
   "execution_count": 31,
   "metadata": {},
   "outputs": [
    {
     "name": "stdout",
     "output_type": "stream",
     "text": [
      "Ridge 5 CV 시 최적 평균 RMSE 값: 0.5216, 최적 alpha:{'alpha': 0.001}\n"
     ]
    },
    {
     "name": "stderr",
     "output_type": "stream",
     "text": [
      "C:\\Users\\korea_1\\anaconda3\\lib\\site-packages\\sklearn\\linear_model\\_coordinate_descent.py:531: ConvergenceWarning: Objective did not converge. You might want to increase the number of iterations. Duality gap: 0.36031057389135945, tolerance: 0.004540063023865147\n",
      "  positive)\n",
      "C:\\Users\\korea_1\\anaconda3\\lib\\site-packages\\sklearn\\linear_model\\_coordinate_descent.py:531: ConvergenceWarning: Objective did not converge. You might want to increase the number of iterations. Duality gap: 0.05758536325400243, tolerance: 0.011916206823642916\n",
      "  positive)\n",
      "C:\\Users\\korea_1\\anaconda3\\lib\\site-packages\\sklearn\\linear_model\\_coordinate_descent.py:531: ConvergenceWarning: Objective did not converge. You might want to increase the number of iterations. Duality gap: 0.5306022248773381, tolerance: 0.011714064621596527\n",
      "  positive)\n",
      "C:\\Users\\korea_1\\anaconda3\\lib\\site-packages\\sklearn\\linear_model\\_coordinate_descent.py:531: ConvergenceWarning: Objective did not converge. You might want to increase the number of iterations. Duality gap: 1.281701893935761, tolerance: 0.01012861893778481\n",
      "  positive)\n"
     ]
    },
    {
     "name": "stdout",
     "output_type": "stream",
     "text": [
      "Lasso 5 CV 시 최적 평균 RMSE 값: 0.5262, 최적 alpha:{'alpha': 0.0001}\n"
     ]
    },
    {
     "name": "stderr",
     "output_type": "stream",
     "text": [
      "C:\\Users\\korea_1\\anaconda3\\lib\\site-packages\\sklearn\\linear_model\\_coordinate_descent.py:531: ConvergenceWarning: Objective did not converge. You might want to increase the number of iterations. Duality gap: 0.7346528972695054, tolerance: 0.01287503534260313\n",
      "  positive)\n"
     ]
    }
   ],
   "source": [
    "from sklearn.model_selection import GridSearchCV\n",
    "\n",
    "def print_best_params(model, params):\n",
    "    grid_model = GridSearchCV(model, param_grid=params, \n",
    "                              scoring='neg_mean_squared_error', cv=5)\n",
    "    grid_model.fit(X_train, y_train)\n",
    "    rmse = np.sqrt(-1* grid_model.best_score_)\n",
    "    \n",
    "    print('{0} 5 CV 시 최적 평균 RMSE 값: {1}, 최적 alpha:{2}'.format(model.__class__.__name__,\n",
    "                                        np.round(rmse, 4), grid_model.best_params_))\n",
    "    return grid_model.best_estimator_\n",
    "\n",
    "ridge_params = { 'alpha':[0.001, 0.05, 0.1, 1, 5, 8, 10, 12, 15, 20] }\n",
    "lasso_params = { 'alpha':[0.0001, 0.0005, 0.001, 0.005, 0.008, 0.05, 0.03, 0.1, 0.5, 1,5, 10] }\n",
    "best_ridge = print_best_params(ridge_reg, ridge_params)\n",
    "best_lasso = print_best_params(lasso_reg, lasso_params)"
   ]
  },
  {
   "cell_type": "code",
   "execution_count": 32,
   "metadata": {},
   "outputs": [
    {
     "name": "stdout",
     "output_type": "stream",
     "text": [
      "0.389216516920296\n",
      "릿지 :  0.39260330757368117\n",
      "라쏘 :  0.39508402869876824\n"
     ]
    },
    {
     "name": "stderr",
     "output_type": "stream",
     "text": [
      "C:\\Users\\korea_1\\anaconda3\\lib\\site-packages\\sklearn\\linear_model\\_coordinate_descent.py:531: ConvergenceWarning: Objective did not converge. You might want to increase the number of iterations. Duality gap: 0.7346528972695054, tolerance: 0.01287503534260313\n",
      "  positive)\n"
     ]
    }
   ],
   "source": [
    "# model 별로 평가 수행\n",
    "from sklearn.linear_model import LinearRegression, Ridge, Lasso\n",
    "lr_reg = LinearRegression()\n",
    "ridge_reg = Ridge(alpha=0.001)\n",
    "lasso_reg = Lasso(alpha=0.0001)\n",
    "\n",
    "\n",
    "lr_reg.fit(X_train, y_train)\n",
    "pred = np.expm1(lr_reg.predict(X_test))\n",
    "\n",
    "ridge_reg.fit(X_train, y_train)\n",
    "lasso_reg.fit(X_train, y_train)\n",
    "\n",
    "pred_ridge = np.expm1(ridge_reg.predict(X_test))\n",
    "pred_lasso = np.expm1(lasso_reg.predict(X_test))\n",
    "\n",
    "print(NMAE(np.expm1(y_test), pred))\n",
    "print('릿지 : ', NMAE(np.expm1(y_test), pred_ridge))\n",
    "print('라쏘 : ', NMAE(np.expm1(y_test), pred_lasso))"
   ]
  },
  {
   "cell_type": "code",
   "execution_count": 33,
   "metadata": {},
   "outputs": [
    {
     "data": {
      "text/plain": [
       "<matplotlib.axes._subplots.AxesSubplot at 0x200817705c8>"
      ]
     },
     "execution_count": 33,
     "metadata": {},
     "output_type": "execute_result"
    },
    {
     "data": {
      "image/png": "[encoded data removed]",
      "text/plain": [
       "<Figure size 432x288 with 1 Axes>"
      ]
     },
     "metadata": {
      "needs_background": "light"
     },
     "output_type": "display_data"
    }
   ],
   "source": [
    "coef = pd.Series(lr_reg.coef_, index=X_train.columns)\n",
    "coef_sort = coef.sort_values(ascending=False)\n",
    "sns.barplot(x=coef_sort.values, y=coef_sort.index)"
   ]
  },
  {
   "cell_type": "code",
   "execution_count": 34,
   "metadata": {},
   "outputs": [
    {
     "data": {
      "text/plain": [
       "<matplotlib.axes._subplots.AxesSubplot at 0x200820fcfc8>"
      ]
     },
     "execution_count": 34,
     "metadata": {},
     "output_type": "execute_result"
    },
    {
     "data": {
      "image/png": "[encoded data removed]",
      "text/plain": [
       "<Figure size 432x288 with 1 Axes>"
      ]
     },
     "metadata": {
      "needs_background": "light"
     },
     "output_type": "display_data"
    }
   ],
   "source": [
    "coef = pd.Series(ridge_reg.coef_, index=X_train.columns)\n",
    "coef_sort = coef.sort_values(ascending=False)\n",
    "sns.barplot(x=coef_sort.values, y=coef_sort.index)"
   ]
  },
  {
   "cell_type": "code",
   "execution_count": 35,
   "metadata": {},
   "outputs": [
    {
     "data": {
      "text/plain": [
       "<matplotlib.axes._subplots.AxesSubplot at 0x200821decc8>"
      ]
     },
     "execution_count": 35,
     "metadata": {},
     "output_type": "execute_result"
    },
    {
     "data": {
      "image/png": "[encoded data removed]",
      "text/plain": [
       "<Figure size 432x288 with 1 Axes>"
      ]
     },
     "metadata": {
      "needs_background": "light"
     },
     "output_type": "display_data"
    }
   ],
   "source": [
    "coef = pd.Series(lasso_reg.coef_, index=X_train.columns)\n",
    "coef_sort = coef.sort_values(ascending=False)\n",
    "sns.barplot(x=coef_sort.values, y=coef_sort.index)"
   ]
  },
  {
   "cell_type": "code",
   "execution_count": 36,
   "metadata": {},
   "outputs": [
    {
     "name": "stdout",
     "output_type": "stream",
     "text": [
      "[19:29:40] WARNING: src/objective/regression_obj.cu:152: reg:linear is now deprecated in favor of reg:squarederror.\n",
      "XGB :  0.42328868442220746\n",
      "LGBM :  0.3354228938570134\n"
     ]
    }
   ],
   "source": [
    "from xgboost import XGBRegressor\n",
    "from lightgbm import LGBMRegressor\n",
    "\n",
    "xgb_reg = XGBRegressor(n_estimators=1000, learning_rate=0.05, \n",
    "                       colsample_bytree=0.5, subsample=0.8)\n",
    "lgbm_reg = LGBMRegressor(n_estimators=1000, learning_rate=0.05, num_leaves=4, \n",
    "                         subsample=0.6, colsample_bytree=0.4, reg_lambda=10, n_jobs=-1)\n",
    "\n",
    "xgb_reg.fit(X_train, y_train)\n",
    "lgbm_reg.fit(X_train, y_train)\n",
    "\n",
    "pred_xgb = np.expm1(xgb_reg.predict(X_test))\n",
    "pred_lgbm = np.expm1(lgbm_reg.predict(X_test))\n",
    "\n",
    "print('XGB : ', NMAE(np.expm1(y_test), pred_xgb))\n",
    "print(\"LGBM : \", NMAE(np.expm1(y_test), pred_lgbm))"
   ]
  },
  {
   "cell_type": "code",
   "execution_count": 37,
   "metadata": {},
   "outputs": [
    {
     "name": "stdout",
     "output_type": "stream",
     "text": [
      "[19:29:41] WARNING: src/objective/regression_obj.cu:152: reg:linear is now deprecated in favor of reg:squarederror.\n",
      "XGB :  0.3972208911813734\n"
     ]
    }
   ],
   "source": [
    "xgb_reg = XGBRegressor(n_estimators=2000, learning_rate=0.01, \n",
    "                       colsample_bytree=0.5, subsample=0.8)\n",
    "\n",
    "xgb_reg.fit(X_train, y_train)\n",
    "pred_xgb = np.expm1(xgb_reg.predict(X_test))\n",
    "print('XGB : ', NMAE(np.expm1(y_test), pred_xgb))"
   ]
  },
  {
   "cell_type": "code",
   "execution_count": 39,
   "metadata": {},
   "outputs": [
    {
     "name": "stdout",
     "output_type": "stream",
     "text": [
      "LGBM :  0.3074277164370145\n"
     ]
    }
   ],
   "source": [
    "lgbm_reg = LGBMRegressor(n_estimators=20000, learning_rate=0.1, num_leaves=4, \n",
    "                         subsample=0.6, colsample_bytree=0.4, reg_lambda=10, n_jobs=-1)\n",
    "\n",
    "lgbm_reg.fit(X_train, y_train)\n",
    "pred_lgbm = np.expm1(lgbm_reg.predict(X_test))\n",
    "print(\"LGBM : \", NMAE(np.expm1(y_test), pred_lgbm))"
   ]
  },
  {
   "cell_type": "code",
   "execution_count": 40,
   "metadata": {},
   "outputs": [
    {
     "data": {
      "text/html": [
       "<div>\n",
       "<style scoped>\n",
       "    .dataframe tbody tr th:only-of-type {\n",
       "        vertical-align: middle;\n",
       "    }\n",
       "\n",
       "    .dataframe tbody tr th {\n",
       "        vertical-align: top;\n",
       "    }\n",
       "\n",
       "    .dataframe thead th {\n",
       "        text-align: right;\n",
       "    }\n",
       "</style>\n",
       "<table border=\"1\" class=\"dataframe\">\n",
       "  <thead>\n",
       "    <tr style=\"text-align: right;\">\n",
       "      <th></th>\n",
       "      <th>wind_direction</th>\n",
       "      <th>sky_condition</th>\n",
       "      <th>precipitation_form</th>\n",
       "      <th>wind_speed</th>\n",
       "      <th>humidity</th>\n",
       "      <th>low_temp</th>\n",
       "      <th>high_temp</th>\n",
       "      <th>Precipitation_Probability</th>\n",
       "      <th>month</th>\n",
       "      <th>day</th>\n",
       "      <th>daysOfWeek</th>\n",
       "      <th>covid</th>\n",
       "      <th>temp_diff_info</th>\n",
       "      <th>sweat_info</th>\n",
       "      <th>cold_info</th>\n",
       "    </tr>\n",
       "  </thead>\n",
       "  <tbody>\n",
       "    <tr>\n",
       "      <th>0</th>\n",
       "      <td>5.339939</td>\n",
       "      <td>1.609438</td>\n",
       "      <td>0.000000</td>\n",
       "      <td>1.398717</td>\n",
       "      <td>4.330733</td>\n",
       "      <td>2.610070</td>\n",
       "      <td>3.091042</td>\n",
       "      <td>3.433987</td>\n",
       "      <td>1.609438</td>\n",
       "      <td>0.693147</td>\n",
       "      <td>1.945910</td>\n",
       "      <td>0.000000</td>\n",
       "      <td>2.240710</td>\n",
       "      <td>7.362645</td>\n",
       "      <td>3.674527</td>\n",
       "    </tr>\n",
       "    <tr>\n",
       "      <th>1</th>\n",
       "      <td>5.343850</td>\n",
       "      <td>1.373716</td>\n",
       "      <td>0.000000</td>\n",
       "      <td>1.453486</td>\n",
       "      <td>4.260325</td>\n",
       "      <td>2.625538</td>\n",
       "      <td>2.995732</td>\n",
       "      <td>3.020425</td>\n",
       "      <td>1.609438</td>\n",
       "      <td>1.098612</td>\n",
       "      <td>0.000000</td>\n",
       "      <td>0.000000</td>\n",
       "      <td>1.972413</td>\n",
       "      <td>7.191299</td>\n",
       "      <td>3.761147</td>\n",
       "    </tr>\n",
       "    <tr>\n",
       "      <th>2</th>\n",
       "      <td>5.368384</td>\n",
       "      <td>1.363793</td>\n",
       "      <td>0.000000</td>\n",
       "      <td>1.305626</td>\n",
       "      <td>4.329140</td>\n",
       "      <td>2.425864</td>\n",
       "      <td>2.792146</td>\n",
       "      <td>3.001366</td>\n",
       "      <td>1.609438</td>\n",
       "      <td>1.386294</td>\n",
       "      <td>0.693147</td>\n",
       "      <td>0.000000</td>\n",
       "      <td>1.792426</td>\n",
       "      <td>7.045643</td>\n",
       "      <td>3.358265</td>\n",
       "    </tr>\n",
       "    <tr>\n",
       "      <th>3</th>\n",
       "      <td>4.975602</td>\n",
       "      <td>1.545859</td>\n",
       "      <td>0.354172</td>\n",
       "      <td>1.420213</td>\n",
       "      <td>4.288389</td>\n",
       "      <td>2.231304</td>\n",
       "      <td>2.592864</td>\n",
       "      <td>3.795332</td>\n",
       "      <td>1.609438</td>\n",
       "      <td>1.609438</td>\n",
       "      <td>1.098612</td>\n",
       "      <td>0.000000</td>\n",
       "      <td>1.620576</td>\n",
       "      <td>6.790804</td>\n",
       "      <td>3.298908</td>\n",
       "    </tr>\n",
       "    <tr>\n",
       "      <th>4</th>\n",
       "      <td>4.573731</td>\n",
       "      <td>1.609438</td>\n",
       "      <td>0.544067</td>\n",
       "      <td>1.431746</td>\n",
       "      <td>4.314604</td>\n",
       "      <td>1.927892</td>\n",
       "      <td>2.435454</td>\n",
       "      <td>4.164772</td>\n",
       "      <td>1.609438</td>\n",
       "      <td>1.791759</td>\n",
       "      <td>1.386294</td>\n",
       "      <td>0.000000</td>\n",
       "      <td>1.713077</td>\n",
       "      <td>6.646265</td>\n",
       "      <td>2.981519</td>\n",
       "    </tr>\n",
       "    <tr>\n",
       "      <th>...</th>\n",
       "      <td>...</td>\n",
       "      <td>...</td>\n",
       "      <td>...</td>\n",
       "      <td>...</td>\n",
       "      <td>...</td>\n",
       "      <td>...</td>\n",
       "      <td>...</td>\n",
       "      <td>...</td>\n",
       "      <td>...</td>\n",
       "      <td>...</td>\n",
       "      <td>...</td>\n",
       "      <td>...</td>\n",
       "      <td>...</td>\n",
       "      <td>...</td>\n",
       "      <td>...</td>\n",
       "    </tr>\n",
       "    <tr>\n",
       "      <th>268</th>\n",
       "      <td>5.436609</td>\n",
       "      <td>1.605430</td>\n",
       "      <td>0.201307</td>\n",
       "      <td>1.185096</td>\n",
       "      <td>4.374221</td>\n",
       "      <td>3.068053</td>\n",
       "      <td>3.350816</td>\n",
       "      <td>3.623968</td>\n",
       "      <td>1.945910</td>\n",
       "      <td>3.295837</td>\n",
       "      <td>1.609438</td>\n",
       "      <td>0.693147</td>\n",
       "      <td>2.082686</td>\n",
       "      <td>7.677138</td>\n",
       "      <td>3.861897</td>\n",
       "    </tr>\n",
       "    <tr>\n",
       "      <th>269</th>\n",
       "      <td>5.341233</td>\n",
       "      <td>1.351962</td>\n",
       "      <td>0.077887</td>\n",
       "      <td>1.027474</td>\n",
       "      <td>4.374649</td>\n",
       "      <td>3.082460</td>\n",
       "      <td>3.395917</td>\n",
       "      <td>3.094718</td>\n",
       "      <td>1.945910</td>\n",
       "      <td>3.332205</td>\n",
       "      <td>1.791759</td>\n",
       "      <td>0.693147</td>\n",
       "      <td>2.200552</td>\n",
       "      <td>7.724252</td>\n",
       "      <td>3.646408</td>\n",
       "    </tr>\n",
       "    <tr>\n",
       "      <th>270</th>\n",
       "      <td>5.647452</td>\n",
       "      <td>1.004302</td>\n",
       "      <td>0.000000</td>\n",
       "      <td>1.036737</td>\n",
       "      <td>4.300491</td>\n",
       "      <td>3.091042</td>\n",
       "      <td>3.402962</td>\n",
       "      <td>2.115894</td>\n",
       "      <td>1.945910</td>\n",
       "      <td>3.367296</td>\n",
       "      <td>1.945910</td>\n",
       "      <td>0.693147</td>\n",
       "      <td>2.203096</td>\n",
       "      <td>7.656431</td>\n",
       "      <td>3.669187</td>\n",
       "    </tr>\n",
       "    <tr>\n",
       "      <th>271</th>\n",
       "      <td>4.927449</td>\n",
       "      <td>1.180807</td>\n",
       "      <td>0.084341</td>\n",
       "      <td>1.112844</td>\n",
       "      <td>4.269320</td>\n",
       "      <td>3.026504</td>\n",
       "      <td>3.295837</td>\n",
       "      <td>2.805842</td>\n",
       "      <td>1.945910</td>\n",
       "      <td>3.401197</td>\n",
       "      <td>0.000000</td>\n",
       "      <td>0.693147</td>\n",
       "      <td>1.998096</td>\n",
       "      <td>7.513872</td>\n",
       "      <td>3.715859</td>\n",
       "    </tr>\n",
       "    <tr>\n",
       "      <th>272</th>\n",
       "      <td>4.802356</td>\n",
       "      <td>1.530828</td>\n",
       "      <td>0.359072</td>\n",
       "      <td>1.883122</td>\n",
       "      <td>4.357491</td>\n",
       "      <td>3.001963</td>\n",
       "      <td>3.297798</td>\n",
       "      <td>3.744409</td>\n",
       "      <td>1.945910</td>\n",
       "      <td>3.433987</td>\n",
       "      <td>0.693147</td>\n",
       "      <td>0.693147</td>\n",
       "      <td>2.070401</td>\n",
       "      <td>7.605228</td>\n",
       "      <td>4.678446</td>\n",
       "    </tr>\n",
       "  </tbody>\n",
       "</table>\n",
       "<p>273 rows × 15 columns</p>\n",
       "</div>"
      ],
      "text/plain": [
       "     wind_direction  sky_condition  precipitation_form  wind_speed  humidity  \\\n",
       "0          5.339939       1.609438            0.000000    1.398717  4.330733   \n",
       "1          5.343850       1.373716            0.000000    1.453486  4.260325   \n",
       "2          5.368384       1.363793            0.000000    1.305626  4.329140   \n",
       "3          4.975602       1.545859            0.354172    1.420213  4.288389   \n",
       "4          4.573731       1.609438            0.544067    1.431746  4.314604   \n",
       "..              ...            ...                 ...         ...       ...   \n",
       "268        5.436609       1.605430            0.201307    1.185096  4.374221   \n",
       "269        5.341233       1.351962            0.077887    1.027474  4.374649   \n",
       "270        5.647452       1.004302            0.000000    1.036737  4.300491   \n",
       "271        4.927449       1.180807            0.084341    1.112844  4.269320   \n",
       "272        4.802356       1.530828            0.359072    1.883122  4.357491   \n",
       "\n",
       "     low_temp  high_temp  Precipitation_Probability     month       day  \\\n",
       "0    2.610070   3.091042                   3.433987  1.609438  0.693147   \n",
       "1    2.625538   2.995732                   3.020425  1.609438  1.098612   \n",
       "2    2.425864   2.792146                   3.001366  1.609438  1.386294   \n",
       "3    2.231304   2.592864                   3.795332  1.609438  1.609438   \n",
       "4    1.927892   2.435454                   4.164772  1.609438  1.791759   \n",
       "..        ...        ...                        ...       ...       ...   \n",
       "268  3.068053   3.350816                   3.623968  1.945910  3.295837   \n",
       "269  3.082460   3.395917                   3.094718  1.945910  3.332205   \n",
       "270  3.091042   3.402962                   2.115894  1.945910  3.367296   \n",
       "271  3.026504   3.295837                   2.805842  1.945910  3.401197   \n",
       "272  3.001963   3.297798                   3.744409  1.945910  3.433987   \n",
       "\n",
       "     daysOfWeek     covid  temp_diff_info  sweat_info  cold_info  \n",
       "0      1.945910  0.000000        2.240710    7.362645   3.674527  \n",
       "1      0.000000  0.000000        1.972413    7.191299   3.761147  \n",
       "2      0.693147  0.000000        1.792426    7.045643   3.358265  \n",
       "3      1.098612  0.000000        1.620576    6.790804   3.298908  \n",
       "4      1.386294  0.000000        1.713077    6.646265   2.981519  \n",
       "..          ...       ...             ...         ...        ...  \n",
       "268    1.609438  0.693147        2.082686    7.677138   3.861897  \n",
       "269    1.791759  0.693147        2.200552    7.724252   3.646408  \n",
       "270    1.945910  0.693147        2.203096    7.656431   3.669187  \n",
       "271    0.000000  0.693147        1.998096    7.513872   3.715859  \n",
       "272    0.693147  0.693147        2.070401    7.605228   4.678446  \n",
       "\n",
       "[273 rows x 15 columns]"
      ]
     },
     "execution_count": 40,
     "metadata": {},
     "output_type": "execute_result"
    }
   ],
   "source": [
    "X_train"
   ]
  },
  {
   "cell_type": "code",
   "execution_count": null,
   "metadata": {},
   "outputs": [],
   "source": []
  }
 ],
 "metadata": {
  "kernelspec": {
   "display_name": "Python 3",
   "language": "python",
   "name": "python3"
  },
  "language_info": {
   "codemirror_mode": {
    "name": "ipython",
    "version": 3
   },
   "file_extension": ".py",
   "mimetype": "text/x-python",
   "name": "python",
   "nbconvert_exporter": "python",
   "pygments_lexer": "ipython3",
   "version": "3.7.7"
  }
 },
 "nbformat": 4,
 "nbformat_minor": 4
}
